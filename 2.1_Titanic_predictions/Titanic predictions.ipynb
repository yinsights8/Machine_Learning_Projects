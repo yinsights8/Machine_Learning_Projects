{
 "cells": [
  {
   "cell_type": "markdown",
   "id": "cdde5cb1",
   "metadata": {},
   "source": [
    "## Importing Important libraries"
   ]
  },
  {
   "cell_type": "code",
   "execution_count": 1,
   "id": "6db820d8",
   "metadata": {},
   "outputs": [],
   "source": [
    "import pandas as pd\n",
    "import numpy as np\n",
    "\n",
    "from sklearn.linear_model import LogisticRegression\n",
    "from sklearn.model_selection import train_test_split\n",
    "from sklearn.metrics import classification_report, accuracy_score, confusion_matrix\n",
    "from sklearn.metrics import roc_auc_score, roc_curve\n",
    "\n",
    "import matplotlib.pyplot as plt\n",
    "import seaborn as sns\n",
    "\n",
    "import warnings\n",
    "warnings.filterwarnings(\"ignore\")"
   ]
  },
  {
   "cell_type": "markdown",
   "id": "0db20b54",
   "metadata": {},
   "source": [
    "## 1. Problem statement"
   ]
  },
  {
   "cell_type": "raw",
   "id": "0687e3bd",
   "metadata": {},
   "source": [
    "- classication problem \n",
    "\n",
    "- how many people has survived that incident how many men's and how amny feamale's\n",
    "\n",
    "- Target columns would - \"Survied\""
   ]
  },
  {
   "cell_type": "markdown",
   "id": "50ffef18",
   "metadata": {},
   "source": [
    "## 2. Data Gatharing"
   ]
  },
  {
   "cell_type": "code",
   "execution_count": 2,
   "id": "5a68c6c1",
   "metadata": {},
   "outputs": [
    {
     "data": {
      "text/html": [
       "<div>\n",
       "<style scoped>\n",
       "    .dataframe tbody tr th:only-of-type {\n",
       "        vertical-align: middle;\n",
       "    }\n",
       "\n",
       "    .dataframe tbody tr th {\n",
       "        vertical-align: top;\n",
       "    }\n",
       "\n",
       "    .dataframe thead th {\n",
       "        text-align: right;\n",
       "    }\n",
       "</style>\n",
       "<table border=\"1\" class=\"dataframe\">\n",
       "  <thead>\n",
       "    <tr style=\"text-align: right;\">\n",
       "      <th></th>\n",
       "      <th>PassengerId</th>\n",
       "      <th>Survived</th>\n",
       "      <th>Pclass</th>\n",
       "      <th>Name</th>\n",
       "      <th>Gender</th>\n",
       "      <th>Age</th>\n",
       "      <th>SibSp</th>\n",
       "      <th>Parch</th>\n",
       "      <th>Ticket</th>\n",
       "      <th>Fare</th>\n",
       "      <th>Cabin</th>\n",
       "      <th>Embarked</th>\n",
       "    </tr>\n",
       "  </thead>\n",
       "  <tbody>\n",
       "    <tr>\n",
       "      <th>0</th>\n",
       "      <td>1</td>\n",
       "      <td>0</td>\n",
       "      <td>3</td>\n",
       "      <td>Braund, Mr. Owen Harris</td>\n",
       "      <td>male</td>\n",
       "      <td>22.0</td>\n",
       "      <td>1</td>\n",
       "      <td>0</td>\n",
       "      <td>A/5 21171</td>\n",
       "      <td>7.2500</td>\n",
       "      <td>NaN</td>\n",
       "      <td>S</td>\n",
       "    </tr>\n",
       "    <tr>\n",
       "      <th>1</th>\n",
       "      <td>2</td>\n",
       "      <td>1</td>\n",
       "      <td>1</td>\n",
       "      <td>Cumings, Mrs. John Bradley (Florence Briggs Th...</td>\n",
       "      <td>female</td>\n",
       "      <td>38.0</td>\n",
       "      <td>1</td>\n",
       "      <td>0</td>\n",
       "      <td>PC 17599</td>\n",
       "      <td>71.2833</td>\n",
       "      <td>C85</td>\n",
       "      <td>C</td>\n",
       "    </tr>\n",
       "    <tr>\n",
       "      <th>2</th>\n",
       "      <td>3</td>\n",
       "      <td>1</td>\n",
       "      <td>3</td>\n",
       "      <td>Heikkinen, Miss. Laina</td>\n",
       "      <td>female</td>\n",
       "      <td>26.0</td>\n",
       "      <td>0</td>\n",
       "      <td>0</td>\n",
       "      <td>STON/O2. 3101282</td>\n",
       "      <td>7.9250</td>\n",
       "      <td>NaN</td>\n",
       "      <td>S</td>\n",
       "    </tr>\n",
       "    <tr>\n",
       "      <th>3</th>\n",
       "      <td>4</td>\n",
       "      <td>1</td>\n",
       "      <td>1</td>\n",
       "      <td>Futrelle, Mrs. Jacques Heath (Lily May Peel)</td>\n",
       "      <td>female</td>\n",
       "      <td>35.0</td>\n",
       "      <td>1</td>\n",
       "      <td>0</td>\n",
       "      <td>113803</td>\n",
       "      <td>53.1000</td>\n",
       "      <td>C123</td>\n",
       "      <td>S</td>\n",
       "    </tr>\n",
       "    <tr>\n",
       "      <th>4</th>\n",
       "      <td>5</td>\n",
       "      <td>0</td>\n",
       "      <td>3</td>\n",
       "      <td>Allen, Mr. William Henry</td>\n",
       "      <td>male</td>\n",
       "      <td>35.0</td>\n",
       "      <td>0</td>\n",
       "      <td>0</td>\n",
       "      <td>373450</td>\n",
       "      <td>8.0500</td>\n",
       "      <td>NaN</td>\n",
       "      <td>S</td>\n",
       "    </tr>\n",
       "  </tbody>\n",
       "</table>\n",
       "</div>"
      ],
      "text/plain": [
       "   PassengerId  Survived  Pclass  \\\n",
       "0            1         0       3   \n",
       "1            2         1       1   \n",
       "2            3         1       3   \n",
       "3            4         1       1   \n",
       "4            5         0       3   \n",
       "\n",
       "                                                Name  Gender   Age  SibSp  \\\n",
       "0                            Braund, Mr. Owen Harris    male  22.0      1   \n",
       "1  Cumings, Mrs. John Bradley (Florence Briggs Th...  female  38.0      1   \n",
       "2                             Heikkinen, Miss. Laina  female  26.0      0   \n",
       "3       Futrelle, Mrs. Jacques Heath (Lily May Peel)  female  35.0      1   \n",
       "4                           Allen, Mr. William Henry    male  35.0      0   \n",
       "\n",
       "   Parch            Ticket     Fare Cabin Embarked  \n",
       "0      0         A/5 21171   7.2500   NaN        S  \n",
       "1      0          PC 17599  71.2833   C85        C  \n",
       "2      0  STON/O2. 3101282   7.9250   NaN        S  \n",
       "3      0            113803  53.1000  C123        S  \n",
       "4      0            373450   8.0500   NaN        S  "
      ]
     },
     "execution_count": 2,
     "metadata": {},
     "output_type": "execute_result"
    }
   ],
   "source": [
    "dataset = pd.read_csv(\"titanic.csv\")\n",
    "dataset.head()"
   ]
  },
  {
   "cell_type": "code",
   "execution_count": 3,
   "id": "edd3a158",
   "metadata": {},
   "outputs": [
    {
     "name": "stdout",
     "output_type": "stream",
     "text": [
      "<class 'pandas.core.frame.DataFrame'>\n",
      "RangeIndex: 891 entries, 0 to 890\n",
      "Data columns (total 12 columns):\n",
      " #   Column       Non-Null Count  Dtype  \n",
      "---  ------       --------------  -----  \n",
      " 0   PassengerId  891 non-null    int64  \n",
      " 1   Survived     891 non-null    int64  \n",
      " 2   Pclass       891 non-null    int64  \n",
      " 3   Name         891 non-null    object \n",
      " 4   Gender       888 non-null    object \n",
      " 5   Age          714 non-null    float64\n",
      " 6   SibSp        891 non-null    int64  \n",
      " 7   Parch        891 non-null    int64  \n",
      " 8   Ticket       891 non-null    object \n",
      " 9   Fare         891 non-null    float64\n",
      " 10  Cabin        204 non-null    object \n",
      " 11  Embarked     889 non-null    object \n",
      "dtypes: float64(2), int64(5), object(5)\n",
      "memory usage: 83.7+ KB\n"
     ]
    }
   ],
   "source": [
    "dataset.info()"
   ]
  },
  {
   "cell_type": "markdown",
   "id": "ef431c6e",
   "metadata": {},
   "source": [
    "## EDA (Exploratory data analysis)"
   ]
  },
  {
   "cell_type": "code",
   "execution_count": 4,
   "id": "89c52231",
   "metadata": {},
   "outputs": [
    {
     "name": "stdout",
     "output_type": "stream",
     "text": [
      "<class 'pandas.core.frame.DataFrame'>\n",
      "RangeIndex: 891 entries, 0 to 890\n",
      "Data columns (total 12 columns):\n",
      " #   Column       Non-Null Count  Dtype  \n",
      "---  ------       --------------  -----  \n",
      " 0   PassengerId  891 non-null    int64  \n",
      " 1   Survived     891 non-null    int64  \n",
      " 2   Pclass       891 non-null    int64  \n",
      " 3   Name         891 non-null    object \n",
      " 4   Gender       888 non-null    object \n",
      " 5   Age          714 non-null    float64\n",
      " 6   SibSp        891 non-null    int64  \n",
      " 7   Parch        891 non-null    int64  \n",
      " 8   Ticket       891 non-null    object \n",
      " 9   Fare         891 non-null    float64\n",
      " 10  Cabin        204 non-null    object \n",
      " 11  Embarked     889 non-null    object \n",
      "dtypes: float64(2), int64(5), object(5)\n",
      "memory usage: 83.7+ KB\n"
     ]
    }
   ],
   "source": [
    "dataset.info()"
   ]
  },
  {
   "cell_type": "code",
   "execution_count": 5,
   "id": "4c1bdd20",
   "metadata": {},
   "outputs": [],
   "source": [
    "dataset.drop([\"PassengerId\", \"Name\", \"Ticket\", \"Cabin\"], axis=1, inplace=True)"
   ]
  },
  {
   "cell_type": "code",
   "execution_count": null,
   "id": "0ba04267",
   "metadata": {},
   "outputs": [],
   "source": []
  },
  {
   "cell_type": "code",
   "execution_count": 6,
   "id": "b1e43581",
   "metadata": {},
   "outputs": [
    {
     "name": "stdout",
     "output_type": "stream",
     "text": [
      "<class 'pandas.core.frame.DataFrame'>\n",
      "RangeIndex: 891 entries, 0 to 890\n",
      "Data columns (total 8 columns):\n",
      " #   Column    Non-Null Count  Dtype  \n",
      "---  ------    --------------  -----  \n",
      " 0   Survived  891 non-null    int64  \n",
      " 1   Pclass    891 non-null    int64  \n",
      " 2   Gender    888 non-null    object \n",
      " 3   Age       714 non-null    float64\n",
      " 4   SibSp     891 non-null    int64  \n",
      " 5   Parch     891 non-null    int64  \n",
      " 6   Fare      891 non-null    float64\n",
      " 7   Embarked  889 non-null    object \n",
      "dtypes: float64(2), int64(4), object(2)\n",
      "memory usage: 55.8+ KB\n"
     ]
    }
   ],
   "source": [
    "dataset.info()"
   ]
  },
  {
   "cell_type": "code",
   "execution_count": 7,
   "id": "dd2ac2a0",
   "metadata": {},
   "outputs": [
    {
     "data": {
      "text/plain": [
       "0"
      ]
     },
     "execution_count": 7,
     "metadata": {},
     "output_type": "execute_result"
    }
   ],
   "source": [
    "dataset[\"Survived\"].isna().sum()"
   ]
  },
  {
   "cell_type": "code",
   "execution_count": 8,
   "id": "17e19245",
   "metadata": {},
   "outputs": [
    {
     "data": {
      "text/plain": [
       "0    547\n",
       "1    344\n",
       "Name: Survived, dtype: int64"
      ]
     },
     "execution_count": 8,
     "metadata": {},
     "output_type": "execute_result"
    }
   ],
   "source": [
    "# 547 people were dead\n",
    "# 344 people were survied\n",
    "dataset[\"Survived\"].value_counts()"
   ]
  },
  {
   "cell_type": "code",
   "execution_count": null,
   "id": "41408037",
   "metadata": {},
   "outputs": [],
   "source": []
  },
  {
   "cell_type": "code",
   "execution_count": 9,
   "id": "dbb7e6dc",
   "metadata": {},
   "outputs": [
    {
     "data": {
      "text/plain": [
       "<AxesSubplot:xlabel='Survived', ylabel='count'>"
      ]
     },
     "execution_count": 9,
     "metadata": {},
     "output_type": "execute_result"
    },
    {
     "data": {
      "image/png": "[encoded data removed]",
      "text/plain": [
       "<Figure size 576x504 with 1 Axes>"
      ]
     },
     "metadata": {},
     "output_type": "display_data"
    }
   ],
   "source": [
    "plt.figure(figsize=(8,7),facecolor=\"white\")\n",
    "sns.countplot(data=dataset, x=\"Survived\")"
   ]
  },
  {
   "cell_type": "code",
   "execution_count": 10,
   "id": "4d5ad3cc",
   "metadata": {},
   "outputs": [
    {
     "data": {
      "text/plain": [
       "<AxesSubplot:xlabel='Survived', ylabel='count'>"
      ]
     },
     "execution_count": 10,
     "metadata": {},
     "output_type": "execute_result"
    },
    {
     "data": {
      "image/png": "[encoded data removed]",
      "text/plain": [
       "<Figure size 576x504 with 1 Axes>"
      ]
     },
     "metadata": {},
     "output_type": "display_data"
    }
   ],
   "source": [
    "## Class 0 :- it shows how many total people's we on the board\n",
    "## Class 1 :- How many people were survered \n",
    "plt.figure(figsize=(8,7),facecolor=\"white\")\n",
    "sns.countplot(data=dataset, x=\"Survived\", hue=\"Gender\")\n",
    "\n",
    "# Form the bellow graph we can see that the count of the men was higher than the count of the female's\n",
    "# but only the proportion lf survied men was low and the proportion of survied class of feamale was high"
   ]
  },
  {
   "cell_type": "code",
   "execution_count": 11,
   "id": "25ccedfe",
   "metadata": {},
   "outputs": [
    {
     "data": {
      "text/plain": [
       "<AxesSubplot:xlabel='Survived', ylabel='count'>"
      ]
     },
     "execution_count": 11,
     "metadata": {},
     "output_type": "execute_result"
    },
    {
     "data": {
      "image/png": "[encoded data removed]",
      "text/plain": [
       "<Figure size 432x288 with 1 Axes>"
      ]
     },
     "metadata": {
      "needs_background": "light"
     },
     "output_type": "display_data"
    }
   ],
   "source": [
    "sns.countplot(data=dataset, x=\"Survived\", hue=\"Pclass\")"
   ]
  },
  {
   "cell_type": "code",
   "execution_count": 12,
   "id": "b4aec881",
   "metadata": {},
   "outputs": [
    {
     "data": {
      "text/plain": [
       "Survived      0\n",
       "Pclass        0\n",
       "Gender        3\n",
       "Age         177\n",
       "SibSp         0\n",
       "Parch         0\n",
       "Fare          0\n",
       "Embarked      2\n",
       "dtype: int64"
      ]
     },
     "execution_count": 12,
     "metadata": {},
     "output_type": "execute_result"
    }
   ],
   "source": [
    "dataset.isna().sum()"
   ]
  },
  {
   "cell_type": "code",
   "execution_count": 13,
   "id": "32fa9e0c",
   "metadata": {},
   "outputs": [
    {
     "data": {
      "text/plain": [
       "<AxesSubplot:>"
      ]
     },
     "execution_count": 13,
     "metadata": {},
     "output_type": "execute_result"
    },
    {
     "data": {
      "image/png": "[encoded data removed]",
      "text/plain": [
       "<Figure size 576x504 with 2 Axes>"
      ]
     },
     "metadata": {},
     "output_type": "display_data"
    }
   ],
   "source": [
    "plt.figure(figsize=(8,7),facecolor=\"white\")\n",
    "\n",
    "sns.heatmap(dataset.isna(),cmap = 'YlGnBu')"
   ]
  },
  {
   "cell_type": "code",
   "execution_count": 14,
   "id": "5b205e5a",
   "metadata": {},
   "outputs": [],
   "source": [
    "dataset[\"Age\"].fillna(dataset[\"Age\"].median(), inplace=True)"
   ]
  },
  {
   "cell_type": "code",
   "execution_count": 15,
   "id": "0d06e89b",
   "metadata": {},
   "outputs": [
    {
     "name": "stdout",
     "output_type": "stream",
     "text": [
      "<class 'pandas.core.frame.DataFrame'>\n",
      "RangeIndex: 891 entries, 0 to 890\n",
      "Data columns (total 8 columns):\n",
      " #   Column    Non-Null Count  Dtype  \n",
      "---  ------    --------------  -----  \n",
      " 0   Survived  891 non-null    int64  \n",
      " 1   Pclass    891 non-null    int64  \n",
      " 2   Gender    888 non-null    object \n",
      " 3   Age       891 non-null    float64\n",
      " 4   SibSp     891 non-null    int64  \n",
      " 5   Parch     891 non-null    int64  \n",
      " 6   Fare      891 non-null    float64\n",
      " 7   Embarked  889 non-null    object \n",
      "dtypes: float64(2), int64(4), object(2)\n",
      "memory usage: 55.8+ KB\n"
     ]
    }
   ],
   "source": [
    "dataset.info()"
   ]
  },
  {
   "cell_type": "code",
   "execution_count": 16,
   "id": "9e14b9e3",
   "metadata": {},
   "outputs": [
    {
     "data": {
      "text/plain": [
       "Survived    0\n",
       "Pclass      0\n",
       "Gender      3\n",
       "Age         0\n",
       "SibSp       0\n",
       "Parch       0\n",
       "Fare        0\n",
       "Embarked    2\n",
       "dtype: int64"
      ]
     },
     "execution_count": 16,
     "metadata": {},
     "output_type": "execute_result"
    }
   ],
   "source": [
    "dataset.isnull().sum()"
   ]
  },
  {
   "cell_type": "code",
   "execution_count": 17,
   "id": "3eae3193",
   "metadata": {},
   "outputs": [],
   "source": [
    "dataset[\"Gender\"].replace({\"male\": 0, \"female\": 1}, inplace=True)"
   ]
  },
  {
   "cell_type": "code",
   "execution_count": 18,
   "id": "e27c6068",
   "metadata": {},
   "outputs": [
    {
     "name": "stdout",
     "output_type": "stream",
     "text": [
      "<class 'pandas.core.frame.DataFrame'>\n",
      "RangeIndex: 891 entries, 0 to 890\n",
      "Data columns (total 8 columns):\n",
      " #   Column    Non-Null Count  Dtype  \n",
      "---  ------    --------------  -----  \n",
      " 0   Survived  891 non-null    int64  \n",
      " 1   Pclass    891 non-null    int64  \n",
      " 2   Gender    888 non-null    float64\n",
      " 3   Age       891 non-null    float64\n",
      " 4   SibSp     891 non-null    int64  \n",
      " 5   Parch     891 non-null    int64  \n",
      " 6   Fare      891 non-null    float64\n",
      " 7   Embarked  889 non-null    object \n",
      "dtypes: float64(3), int64(4), object(1)\n",
      "memory usage: 55.8+ KB\n"
     ]
    }
   ],
   "source": [
    "dataset.info()"
   ]
  },
  {
   "cell_type": "code",
   "execution_count": 19,
   "id": "b23642a3",
   "metadata": {},
   "outputs": [
    {
     "data": {
      "text/html": [
       "<div>\n",
       "<style scoped>\n",
       "    .dataframe tbody tr th:only-of-type {\n",
       "        vertical-align: middle;\n",
       "    }\n",
       "\n",
       "    .dataframe tbody tr th {\n",
       "        vertical-align: top;\n",
       "    }\n",
       "\n",
       "    .dataframe thead th {\n",
       "        text-align: right;\n",
       "    }\n",
       "</style>\n",
       "<table border=\"1\" class=\"dataframe\">\n",
       "  <thead>\n",
       "    <tr style=\"text-align: right;\">\n",
       "      <th></th>\n",
       "      <th>Survived</th>\n",
       "      <th>Pclass</th>\n",
       "      <th>Gender</th>\n",
       "      <th>Age</th>\n",
       "      <th>SibSp</th>\n",
       "      <th>Parch</th>\n",
       "      <th>Fare</th>\n",
       "      <th>Embarked</th>\n",
       "    </tr>\n",
       "  </thead>\n",
       "  <tbody>\n",
       "    <tr>\n",
       "      <th>0</th>\n",
       "      <td>0</td>\n",
       "      <td>3</td>\n",
       "      <td>0.0</td>\n",
       "      <td>22.0</td>\n",
       "      <td>1</td>\n",
       "      <td>0</td>\n",
       "      <td>7.2500</td>\n",
       "      <td>S</td>\n",
       "    </tr>\n",
       "    <tr>\n",
       "      <th>1</th>\n",
       "      <td>1</td>\n",
       "      <td>1</td>\n",
       "      <td>1.0</td>\n",
       "      <td>38.0</td>\n",
       "      <td>1</td>\n",
       "      <td>0</td>\n",
       "      <td>71.2833</td>\n",
       "      <td>C</td>\n",
       "    </tr>\n",
       "    <tr>\n",
       "      <th>2</th>\n",
       "      <td>1</td>\n",
       "      <td>3</td>\n",
       "      <td>1.0</td>\n",
       "      <td>26.0</td>\n",
       "      <td>0</td>\n",
       "      <td>0</td>\n",
       "      <td>7.9250</td>\n",
       "      <td>S</td>\n",
       "    </tr>\n",
       "    <tr>\n",
       "      <th>3</th>\n",
       "      <td>1</td>\n",
       "      <td>1</td>\n",
       "      <td>1.0</td>\n",
       "      <td>35.0</td>\n",
       "      <td>1</td>\n",
       "      <td>0</td>\n",
       "      <td>53.1000</td>\n",
       "      <td>S</td>\n",
       "    </tr>\n",
       "    <tr>\n",
       "      <th>4</th>\n",
       "      <td>0</td>\n",
       "      <td>3</td>\n",
       "      <td>0.0</td>\n",
       "      <td>35.0</td>\n",
       "      <td>0</td>\n",
       "      <td>0</td>\n",
       "      <td>8.0500</td>\n",
       "      <td>S</td>\n",
       "    </tr>\n",
       "  </tbody>\n",
       "</table>\n",
       "</div>"
      ],
      "text/plain": [
       "   Survived  Pclass  Gender   Age  SibSp  Parch     Fare Embarked\n",
       "0         0       3     0.0  22.0      1      0   7.2500        S\n",
       "1         1       1     1.0  38.0      1      0  71.2833        C\n",
       "2         1       3     1.0  26.0      0      0   7.9250        S\n",
       "3         1       1     1.0  35.0      1      0  53.1000        S\n",
       "4         0       3     0.0  35.0      0      0   8.0500        S"
      ]
     },
     "execution_count": 19,
     "metadata": {},
     "output_type": "execute_result"
    }
   ],
   "source": [
    "# in Gender column we replace that value by intiger but it seems it converts in  float datatype. \n",
    "# the reason behind it is Gender columns had some missing values.\n",
    "dataset.head()"
   ]
  },
  {
   "cell_type": "code",
   "execution_count": 20,
   "id": "968320b9",
   "metadata": {},
   "outputs": [
    {
     "data": {
      "text/plain": [
       "Survived    0\n",
       "Pclass      0\n",
       "Gender      3\n",
       "Age         0\n",
       "SibSp       0\n",
       "Parch       0\n",
       "Fare        0\n",
       "Embarked    2\n",
       "dtype: int64"
      ]
     },
     "execution_count": 20,
     "metadata": {},
     "output_type": "execute_result"
    }
   ],
   "source": [
    "dataset.isna().sum()"
   ]
  },
  {
   "cell_type": "code",
   "execution_count": 21,
   "id": "4a59f9b0",
   "metadata": {},
   "outputs": [
    {
     "data": {
      "text/plain": [
       "0.0"
      ]
     },
     "execution_count": 21,
     "metadata": {},
     "output_type": "execute_result"
    }
   ],
   "source": [
    "dataset.Gender.mode()[0]"
   ]
  },
  {
   "cell_type": "code",
   "execution_count": 22,
   "id": "fdcbf9cb",
   "metadata": {},
   "outputs": [],
   "source": [
    "dataset['Gender'].fillna(dataset['Gender'].mode()[0], inplace=True)"
   ]
  },
  {
   "cell_type": "code",
   "execution_count": 23,
   "id": "419eef35",
   "metadata": {},
   "outputs": [
    {
     "data": {
      "text/plain": [
       "Survived    0\n",
       "Pclass      0\n",
       "Gender      0\n",
       "Age         0\n",
       "SibSp       0\n",
       "Parch       0\n",
       "Fare        0\n",
       "Embarked    2\n",
       "dtype: int64"
      ]
     },
     "execution_count": 23,
     "metadata": {},
     "output_type": "execute_result"
    }
   ],
   "source": [
    "dataset.isna().sum()"
   ]
  },
  {
   "cell_type": "code",
   "execution_count": 24,
   "id": "5297cd66",
   "metadata": {},
   "outputs": [],
   "source": [
    "embarked_df = pd.get_dummies(dataset[\"Embarked\"], drop_first=True)"
   ]
  },
  {
   "cell_type": "code",
   "execution_count": 25,
   "id": "a6f71511",
   "metadata": {},
   "outputs": [
    {
     "data": {
      "text/html": [
       "<div>\n",
       "<style scoped>\n",
       "    .dataframe tbody tr th:only-of-type {\n",
       "        vertical-align: middle;\n",
       "    }\n",
       "\n",
       "    .dataframe tbody tr th {\n",
       "        vertical-align: top;\n",
       "    }\n",
       "\n",
       "    .dataframe thead th {\n",
       "        text-align: right;\n",
       "    }\n",
       "</style>\n",
       "<table border=\"1\" class=\"dataframe\">\n",
       "  <thead>\n",
       "    <tr style=\"text-align: right;\">\n",
       "      <th></th>\n",
       "      <th>Q</th>\n",
       "      <th>S</th>\n",
       "    </tr>\n",
       "  </thead>\n",
       "  <tbody>\n",
       "    <tr>\n",
       "      <th>0</th>\n",
       "      <td>0</td>\n",
       "      <td>1</td>\n",
       "    </tr>\n",
       "    <tr>\n",
       "      <th>1</th>\n",
       "      <td>0</td>\n",
       "      <td>0</td>\n",
       "    </tr>\n",
       "    <tr>\n",
       "      <th>2</th>\n",
       "      <td>0</td>\n",
       "      <td>1</td>\n",
       "    </tr>\n",
       "    <tr>\n",
       "      <th>3</th>\n",
       "      <td>0</td>\n",
       "      <td>1</td>\n",
       "    </tr>\n",
       "    <tr>\n",
       "      <th>4</th>\n",
       "      <td>0</td>\n",
       "      <td>1</td>\n",
       "    </tr>\n",
       "  </tbody>\n",
       "</table>\n",
       "</div>"
      ],
      "text/plain": [
       "   Q  S\n",
       "0  0  1\n",
       "1  0  0\n",
       "2  0  1\n",
       "3  0  1\n",
       "4  0  1"
      ]
     },
     "execution_count": 25,
     "metadata": {},
     "output_type": "execute_result"
    }
   ],
   "source": [
    "embarked_df.head()"
   ]
  },
  {
   "cell_type": "code",
   "execution_count": 26,
   "id": "47f53e91",
   "metadata": {},
   "outputs": [],
   "source": [
    "df = pd.concat([dataset, embarked_df], axis=1)"
   ]
  },
  {
   "cell_type": "code",
   "execution_count": 27,
   "id": "4f0848b9",
   "metadata": {},
   "outputs": [],
   "source": [
    "df.drop([\"Embarked\"], axis=1, inplace=True)"
   ]
  },
  {
   "cell_type": "code",
   "execution_count": 28,
   "id": "9cf5a26f",
   "metadata": {},
   "outputs": [
    {
     "data": {
      "text/html": [
       "<div>\n",
       "<style scoped>\n",
       "    .dataframe tbody tr th:only-of-type {\n",
       "        vertical-align: middle;\n",
       "    }\n",
       "\n",
       "    .dataframe tbody tr th {\n",
       "        vertical-align: top;\n",
       "    }\n",
       "\n",
       "    .dataframe thead th {\n",
       "        text-align: right;\n",
       "    }\n",
       "</style>\n",
       "<table border=\"1\" class=\"dataframe\">\n",
       "  <thead>\n",
       "    <tr style=\"text-align: right;\">\n",
       "      <th></th>\n",
       "      <th>Survived</th>\n",
       "      <th>Pclass</th>\n",
       "      <th>Gender</th>\n",
       "      <th>Age</th>\n",
       "      <th>SibSp</th>\n",
       "      <th>Parch</th>\n",
       "      <th>Fare</th>\n",
       "      <th>Q</th>\n",
       "      <th>S</th>\n",
       "    </tr>\n",
       "  </thead>\n",
       "  <tbody>\n",
       "    <tr>\n",
       "      <th>0</th>\n",
       "      <td>0</td>\n",
       "      <td>3</td>\n",
       "      <td>0.0</td>\n",
       "      <td>22.0</td>\n",
       "      <td>1</td>\n",
       "      <td>0</td>\n",
       "      <td>7.2500</td>\n",
       "      <td>0</td>\n",
       "      <td>1</td>\n",
       "    </tr>\n",
       "    <tr>\n",
       "      <th>1</th>\n",
       "      <td>1</td>\n",
       "      <td>1</td>\n",
       "      <td>1.0</td>\n",
       "      <td>38.0</td>\n",
       "      <td>1</td>\n",
       "      <td>0</td>\n",
       "      <td>71.2833</td>\n",
       "      <td>0</td>\n",
       "      <td>0</td>\n",
       "    </tr>\n",
       "    <tr>\n",
       "      <th>2</th>\n",
       "      <td>1</td>\n",
       "      <td>3</td>\n",
       "      <td>1.0</td>\n",
       "      <td>26.0</td>\n",
       "      <td>0</td>\n",
       "      <td>0</td>\n",
       "      <td>7.9250</td>\n",
       "      <td>0</td>\n",
       "      <td>1</td>\n",
       "    </tr>\n",
       "    <tr>\n",
       "      <th>3</th>\n",
       "      <td>1</td>\n",
       "      <td>1</td>\n",
       "      <td>1.0</td>\n",
       "      <td>35.0</td>\n",
       "      <td>1</td>\n",
       "      <td>0</td>\n",
       "      <td>53.1000</td>\n",
       "      <td>0</td>\n",
       "      <td>1</td>\n",
       "    </tr>\n",
       "    <tr>\n",
       "      <th>4</th>\n",
       "      <td>0</td>\n",
       "      <td>3</td>\n",
       "      <td>0.0</td>\n",
       "      <td>35.0</td>\n",
       "      <td>0</td>\n",
       "      <td>0</td>\n",
       "      <td>8.0500</td>\n",
       "      <td>0</td>\n",
       "      <td>1</td>\n",
       "    </tr>\n",
       "  </tbody>\n",
       "</table>\n",
       "</div>"
      ],
      "text/plain": [
       "   Survived  Pclass  Gender   Age  SibSp  Parch     Fare  Q  S\n",
       "0         0       3     0.0  22.0      1      0   7.2500  0  1\n",
       "1         1       1     1.0  38.0      1      0  71.2833  0  0\n",
       "2         1       3     1.0  26.0      0      0   7.9250  0  1\n",
       "3         1       1     1.0  35.0      1      0  53.1000  0  1\n",
       "4         0       3     0.0  35.0      0      0   8.0500  0  1"
      ]
     },
     "execution_count": 28,
     "metadata": {},
     "output_type": "execute_result"
    }
   ],
   "source": [
    "df.head()"
   ]
  },
  {
   "cell_type": "code",
   "execution_count": 29,
   "id": "c529ffa2",
   "metadata": {},
   "outputs": [
    {
     "data": {
      "text/plain": [
       "Survived    0\n",
       "Pclass      0\n",
       "Gender      0\n",
       "Age         0\n",
       "SibSp       0\n",
       "Parch       0\n",
       "Fare        0\n",
       "Q           0\n",
       "S           0\n",
       "dtype: int64"
      ]
     },
     "execution_count": 29,
     "metadata": {},
     "output_type": "execute_result"
    }
   ],
   "source": [
    "df.isna().sum()"
   ]
  },
  {
   "cell_type": "markdown",
   "id": "a36959f2",
   "metadata": {},
   "source": [
    "## Model Training"
   ]
  },
  {
   "cell_type": "markdown",
   "id": "b8055ad8",
   "metadata": {},
   "source": [
    "#### spliting data"
   ]
  },
  {
   "cell_type": "code",
   "execution_count": 30,
   "id": "609e5c48",
   "metadata": {},
   "outputs": [],
   "source": [
    "x = df.drop(\"Survived\", axis=1)\n",
    "y = df[\"Survived\"]"
   ]
  },
  {
   "cell_type": "code",
   "execution_count": null,
   "id": "4bc3164a",
   "metadata": {},
   "outputs": [],
   "source": []
  },
  {
   "cell_type": "code",
   "execution_count": 31,
   "id": "7058faa2",
   "metadata": {},
   "outputs": [],
   "source": [
    "x_train, x_test, y_train, y_test = train_test_split(x,y,test_size=0.2, random_state=1, stratify=y)"
   ]
  },
  {
   "cell_type": "markdown",
   "id": "3ecbce84",
   "metadata": {},
   "source": [
    "##### if stratify = y\n",
    "###### stratify maintains the balance the data that goes into the test and y dataset . i.e the data in y and y_test will equally be distributed\n"
   ]
  },
  {
   "cell_type": "code",
   "execution_count": 32,
   "id": "90b4287e",
   "metadata": {},
   "outputs": [
    {
     "data": {
      "text/plain": [
       "0    110\n",
       "1     69\n",
       "Name: Survived, dtype: int64"
      ]
     },
     "execution_count": 32,
     "metadata": {},
     "output_type": "execute_result"
    }
   ],
   "source": [
    "y_test.value_counts()"
   ]
  },
  {
   "cell_type": "code",
   "execution_count": 33,
   "id": "8b1aeef3",
   "metadata": {},
   "outputs": [
    {
     "data": {
      "text/plain": [
       "0.6272727272727273"
      ]
     },
     "execution_count": 33,
     "metadata": {},
     "output_type": "execute_result"
    }
   ],
   "source": [
    "69/110"
   ]
  },
  {
   "cell_type": "code",
   "execution_count": 34,
   "id": "1af4cba2",
   "metadata": {},
   "outputs": [
    {
     "data": {
      "text/plain": [
       "0    547\n",
       "1    344\n",
       "Name: Survived, dtype: int64"
      ]
     },
     "execution_count": 34,
     "metadata": {},
     "output_type": "execute_result"
    }
   ],
   "source": [
    "y.value_counts()"
   ]
  },
  {
   "cell_type": "code",
   "execution_count": 35,
   "id": "706d78b7",
   "metadata": {},
   "outputs": [
    {
     "data": {
      "text/plain": [
       "0.6288848263254113"
      ]
     },
     "execution_count": 35,
     "metadata": {},
     "output_type": "execute_result"
    }
   ],
   "source": [
    "344/547"
   ]
  },
  {
   "cell_type": "code",
   "execution_count": null,
   "id": "d3276469",
   "metadata": {},
   "outputs": [],
   "source": []
  },
  {
   "cell_type": "markdown",
   "id": "484b65d2",
   "metadata": {},
   "source": [
    "##### if stratify = None"
   ]
  },
  {
   "cell_type": "code",
   "execution_count": 36,
   "id": "b02a58b2",
   "metadata": {},
   "outputs": [
    {
     "data": {
      "text/plain": [
       "0    110\n",
       "1     69\n",
       "Name: Survived, dtype: int64"
      ]
     },
     "execution_count": 36,
     "metadata": {},
     "output_type": "execute_result"
    }
   ],
   "source": [
    "y_test.value_counts()"
   ]
  },
  {
   "cell_type": "code",
   "execution_count": 37,
   "id": "1802ed64",
   "metadata": {},
   "outputs": [
    {
     "data": {
      "text/plain": [
       "0.7047619047619048"
      ]
     },
     "execution_count": 37,
     "metadata": {},
     "output_type": "execute_result"
    }
   ],
   "source": [
    "74/105"
   ]
  },
  {
   "cell_type": "code",
   "execution_count": 38,
   "id": "dba13894",
   "metadata": {},
   "outputs": [
    {
     "data": {
      "text/plain": [
       "0    547\n",
       "1    344\n",
       "Name: Survived, dtype: int64"
      ]
     },
     "execution_count": 38,
     "metadata": {},
     "output_type": "execute_result"
    }
   ],
   "source": [
    "y.value_counts()"
   ]
  },
  {
   "cell_type": "code",
   "execution_count": 39,
   "id": "1d960714",
   "metadata": {},
   "outputs": [
    {
     "data": {
      "text/plain": [
       "0.6288848263254113"
      ]
     },
     "execution_count": 39,
     "metadata": {},
     "output_type": "execute_result"
    }
   ],
   "source": [
    "344/547"
   ]
  },
  {
   "cell_type": "code",
   "execution_count": null,
   "id": "2dba5698",
   "metadata": {},
   "outputs": [],
   "source": []
  },
  {
   "cell_type": "markdown",
   "id": "18f8dc24",
   "metadata": {},
   "source": [
    "### Applying logistic regression"
   ]
  },
  {
   "cell_type": "code",
   "execution_count": 40,
   "id": "8e8e9934",
   "metadata": {},
   "outputs": [
    {
     "data": {
      "text/plain": [
       "LogisticRegression()"
      ]
     },
     "execution_count": 40,
     "metadata": {},
     "output_type": "execute_result"
    }
   ],
   "source": [
    "classifier = LogisticRegression()\n",
    "classifier.fit(x_test, y_test)"
   ]
  },
  {
   "cell_type": "markdown",
   "id": "176c5789",
   "metadata": {},
   "source": [
    "#### 1. test set predictions"
   ]
  },
  {
   "cell_type": "code",
   "execution_count": 41,
   "id": "ddba273d",
   "metadata": {},
   "outputs": [],
   "source": [
    "y_pred_test = classifier.predict(x_test)"
   ]
  },
  {
   "cell_type": "code",
   "execution_count": 42,
   "id": "0a48cf19",
   "metadata": {},
   "outputs": [
    {
     "data": {
      "text/plain": [
       "array([0, 0, 1, 0, 1], dtype=int64)"
      ]
     },
     "execution_count": 42,
     "metadata": {},
     "output_type": "execute_result"
    }
   ],
   "source": [
    "y_pred_test[10:15]"
   ]
  },
  {
   "cell_type": "code",
   "execution_count": 43,
   "id": "379ae929",
   "metadata": {},
   "outputs": [
    {
     "data": {
      "text/plain": [
       "355    0\n",
       "388    0\n",
       "299    1\n",
       "77     0\n",
       "607    1\n",
       "Name: Survived, dtype: int64"
      ]
     },
     "execution_count": 43,
     "metadata": {},
     "output_type": "execute_result"
    }
   ],
   "source": [
    "y_test[10:15]"
   ]
  },
  {
   "cell_type": "code",
   "execution_count": 44,
   "id": "074c982c",
   "metadata": {},
   "outputs": [
    {
     "data": {
      "text/plain": [
       "array([0, 0, 0, 0, 0, 1, 1, 1, 0, 0], dtype=int64)"
      ]
     },
     "execution_count": 44,
     "metadata": {},
     "output_type": "execute_result"
    }
   ],
   "source": [
    "y_pred_test[:10]"
   ]
  },
  {
   "cell_type": "code",
   "execution_count": 45,
   "id": "739a0bc8",
   "metadata": {},
   "outputs": [
    {
     "data": {
      "text/plain": [
       "200    0\n",
       "812    0\n",
       "825    0\n",
       "50     0\n",
       "286    1\n",
       "394    1\n",
       "437    1\n",
       "230    1\n",
       "684    0\n",
       "23     1\n",
       "Name: Survived, dtype: int64"
      ]
     },
     "execution_count": 45,
     "metadata": {},
     "output_type": "execute_result"
    }
   ],
   "source": [
    "y_test[:10]"
   ]
  },
  {
   "cell_type": "markdown",
   "id": "28619ebf",
   "metadata": {},
   "source": [
    "# Accuracy"
   ]
  },
  {
   "cell_type": "code",
   "execution_count": 46,
   "id": "50fd3f4f",
   "metadata": {},
   "outputs": [
    {
     "data": {
      "text/plain": [
       "0.8100558659217877"
      ]
     },
     "execution_count": 46,
     "metadata": {},
     "output_type": "execute_result"
    }
   ],
   "source": [
    "Accuracy = accuracy_score(y_test, y_pred_test)\n",
    "Accuracy"
   ]
  },
  {
   "cell_type": "code",
   "execution_count": 47,
   "id": "422c501a",
   "metadata": {},
   "outputs": [
    {
     "data": {
      "text/plain": [
       "array([[96, 14],\n",
       "       [20, 49]], dtype=int64)"
      ]
     },
     "execution_count": 47,
     "metadata": {},
     "output_type": "execute_result"
    }
   ],
   "source": [
    "matrix = confusion_matrix(y_test, y_pred_test)\n",
    "matrix"
   ]
  },
  {
   "cell_type": "raw",
   "id": "54d03036",
   "metadata": {},
   "source": [
    "                Actual values\n",
    "    \n",
    "Prediction\n",
    "values          TP            FP\n",
    "                FN            TN"
   ]
  },
  {
   "cell_type": "raw",
   "id": "6294a2ed",
   "metadata": {},
   "source": [
    "                Prediction values  \n",
    "\n",
    "Actual           TN            FP              [96,  14] \n",
    "                                        ==>       \n",
    "values           FN            TP              [20,  49] "
   ]
  },
  {
   "cell_type": "code",
   "execution_count": 48,
   "id": "e17ae73f",
   "metadata": {},
   "outputs": [
    {
     "data": {
      "text/plain": [
       "0.8100558659217877"
      ]
     },
     "execution_count": 48,
     "metadata": {},
     "output_type": "execute_result"
    }
   ],
   "source": [
    "(96+49) / (96+20+49+14)"
   ]
  },
  {
   "cell_type": "markdown",
   "id": "dcea9853",
   "metadata": {},
   "source": [
    "#### Classification Report"
   ]
  },
  {
   "cell_type": "code",
   "execution_count": 49,
   "id": "dd6705e8",
   "metadata": {},
   "outputs": [
    {
     "name": "stdout",
     "output_type": "stream",
     "text": [
      "              precision    recall  f1-score   support\n",
      "\n",
      "           0       0.83      0.87      0.85       110\n",
      "           1       0.78      0.71      0.74        69\n",
      "\n",
      "    accuracy                           0.81       179\n",
      "   macro avg       0.80      0.79      0.80       179\n",
      "weighted avg       0.81      0.81      0.81       179\n",
      "\n"
     ]
    }
   ],
   "source": [
    "clf_report = classification_report(y_test, y_pred_test)\n",
    "print(clf_report)"
   ]
  },
  {
   "cell_type": "code",
   "execution_count": null,
   "id": "0a64d5f3",
   "metadata": {},
   "outputs": [],
   "source": []
  },
  {
   "cell_type": "code",
   "execution_count": 50,
   "id": "7da031e1",
   "metadata": {},
   "outputs": [],
   "source": [
    "y_test_prob = classifier.predict_proba(x_test)"
   ]
  },
  {
   "cell_type": "code",
   "execution_count": 51,
   "id": "5d13753a",
   "metadata": {},
   "outputs": [
    {
     "data": {
      "text/plain": [
       "array([[0.90296168, 0.09703832],\n",
       "       [0.82737112, 0.17262888],\n",
       "       [0.86984198, 0.13015802],\n",
       "       [0.79426396, 0.20573604],\n",
       "       [0.9133834 , 0.0866166 ],\n",
       "       [0.35432954, 0.64567046],\n",
       "       [0.17514725, 0.82485275],\n",
       "       [0.15173829, 0.84826171],\n",
       "       [0.96067342, 0.03932658],\n",
       "       [0.51473871, 0.48526129],\n",
       "       [0.90296168, 0.09703832],\n",
       "       [0.86995574, 0.13004426],\n",
       "       [0.2709963 , 0.7290037 ],\n",
       "       [0.90279768, 0.09720232],\n",
       "       [0.49749438, 0.50250562],\n",
       "       [0.74459197, 0.25540803],\n",
       "       [0.98543927, 0.01456073],\n",
       "       [0.41067295, 0.58932705],\n",
       "       [0.33987047, 0.66012953],\n",
       "       [0.45681533, 0.54318467],\n",
       "       [0.0621825 , 0.9378175 ],\n",
       "       [0.41652572, 0.58347428],\n",
       "       [0.93341697, 0.06658303],\n",
       "       [0.63357342, 0.36642658],\n",
       "       [0.83822893, 0.16177107],\n",
       "       [0.97505826, 0.02494174],\n",
       "       [0.883441  , 0.116559  ],\n",
       "       [0.81452254, 0.18547746],\n",
       "       [0.18358613, 0.81641387],\n",
       "       [0.14480704, 0.85519296],\n",
       "       [0.88635849, 0.11364151],\n",
       "       [0.05999093, 0.94000907],\n",
       "       [0.92263667, 0.07736333],\n",
       "       [0.54916106, 0.45083894],\n",
       "       [0.05728639, 0.94271361],\n",
       "       [0.13656792, 0.86343208],\n",
       "       [0.08375536, 0.91624464],\n",
       "       [0.41118744, 0.58881256],\n",
       "       [0.79043597, 0.20956403],\n",
       "       [0.15533984, 0.84466016],\n",
       "       [0.89245077, 0.10754923],\n",
       "       [0.86995877, 0.13004123],\n",
       "       [0.09978426, 0.90021574],\n",
       "       [0.82085311, 0.17914689],\n",
       "       [0.92267694, 0.07732306],\n",
       "       [0.52582957, 0.47417043],\n",
       "       [0.90278022, 0.09721978],\n",
       "       [0.08605829, 0.91394171],\n",
       "       [0.25654234, 0.74345766],\n",
       "       [0.45438199, 0.54561801],\n",
       "       [0.53729846, 0.46270154],\n",
       "       [0.88975385, 0.11024615],\n",
       "       [0.18146982, 0.81853018],\n",
       "       [0.61484728, 0.38515272],\n",
       "       [0.04461579, 0.95538421],\n",
       "       [0.59669623, 0.40330377],\n",
       "       [0.85709678, 0.14290322],\n",
       "       [0.83850951, 0.16149049],\n",
       "       [0.41461553, 0.58538447],\n",
       "       [0.0435135 , 0.9564865 ],\n",
       "       [0.09603779, 0.90396221],\n",
       "       [0.91379966, 0.08620034],\n",
       "       [0.16265059, 0.83734941],\n",
       "       [0.23158043, 0.76841957],\n",
       "       [0.29050981, 0.70949019],\n",
       "       [0.17219075, 0.82780925],\n",
       "       [0.86450647, 0.13549353],\n",
       "       [0.96820168, 0.03179832],\n",
       "       [0.94865792, 0.05134208],\n",
       "       [0.86440887, 0.13559113],\n",
       "       [0.91382506, 0.08617494],\n",
       "       [0.72008515, 0.27991485],\n",
       "       [0.40698411, 0.59301589],\n",
       "       [0.90359278, 0.09640722],\n",
       "       [0.91774729, 0.08225271],\n",
       "       [0.73440484, 0.26559516],\n",
       "       [0.90279768, 0.09720232],\n",
       "       [0.05803326, 0.94196674],\n",
       "       [0.51473871, 0.48526129],\n",
       "       [0.90679354, 0.09320646],\n",
       "       [0.77750694, 0.22249306],\n",
       "       [0.74776786, 0.25223214],\n",
       "       [0.63209742, 0.36790258],\n",
       "       [0.81873331, 0.18126669],\n",
       "       [0.43906687, 0.56093313],\n",
       "       [0.75319959, 0.24680041],\n",
       "       [0.89713888, 0.10286112],\n",
       "       [0.92993933, 0.07006067],\n",
       "       [0.51185461, 0.48814539],\n",
       "       [0.85676007, 0.14323993],\n",
       "       [0.62624297, 0.37375703],\n",
       "       [0.13443936, 0.86556064],\n",
       "       [0.43906818, 0.56093182],\n",
       "       [0.86472604, 0.13527396],\n",
       "       [0.74238484, 0.25761516],\n",
       "       [0.85009452, 0.14990548],\n",
       "       [0.04287828, 0.95712172],\n",
       "       [0.85798908, 0.14201092],\n",
       "       [0.95948852, 0.04051148],\n",
       "       [0.18753884, 0.81246116],\n",
       "       [0.78050477, 0.21949523],\n",
       "       [0.37955785, 0.62044215],\n",
       "       [0.37723998, 0.62276002],\n",
       "       [0.50978175, 0.49021825],\n",
       "       [0.59838674, 0.40161326],\n",
       "       [0.16123728, 0.83876272],\n",
       "       [0.37272279, 0.62727721],\n",
       "       [0.50382037, 0.49617963],\n",
       "       [0.52608938, 0.47391062],\n",
       "       [0.79890655, 0.20109345],\n",
       "       [0.63792959, 0.36207041],\n",
       "       [0.39931341, 0.60068659],\n",
       "       [0.22969491, 0.77030509],\n",
       "       [0.53526667, 0.46473333],\n",
       "       [0.24458015, 0.75541985],\n",
       "       [0.78867036, 0.21132964],\n",
       "       [0.85713299, 0.14286701],\n",
       "       [0.3342224 , 0.6657776 ],\n",
       "       [0.36613657, 0.63386343],\n",
       "       [0.86416875, 0.13583125],\n",
       "       [0.90274107, 0.09725893],\n",
       "       [0.8296923 , 0.1703077 ],\n",
       "       [0.90279768, 0.09720232],\n",
       "       [0.31703544, 0.68296456],\n",
       "       [0.73848263, 0.26151737],\n",
       "       [0.92698212, 0.07301788],\n",
       "       [0.77861424, 0.22138576],\n",
       "       [0.89121955, 0.10878045],\n",
       "       [0.9129722 , 0.0870278 ],\n",
       "       [0.05310123, 0.94689877],\n",
       "       [0.69419261, 0.30580739],\n",
       "       [0.51185461, 0.48814539],\n",
       "       [0.4566553 , 0.5433447 ],\n",
       "       [0.82339431, 0.17660569],\n",
       "       [0.94546654, 0.05453346],\n",
       "       [0.62021186, 0.37978814],\n",
       "       [0.81429508, 0.18570492],\n",
       "       [0.83656366, 0.16343634],\n",
       "       [0.90814511, 0.09185489],\n",
       "       [0.05617634, 0.94382366],\n",
       "       [0.98648504, 0.01351496],\n",
       "       [0.86995877, 0.13004123],\n",
       "       [0.87687229, 0.12312771],\n",
       "       [0.90814511, 0.09185489],\n",
       "       [0.85690973, 0.14309027],\n",
       "       [0.86268736, 0.13731264],\n",
       "       [0.846349  , 0.153651  ],\n",
       "       [0.95572538, 0.04427462],\n",
       "       [0.79510077, 0.20489923],\n",
       "       [0.14194328, 0.85805672],\n",
       "       [0.7302716 , 0.2697284 ],\n",
       "       [0.92263667, 0.07736333],\n",
       "       [0.90279768, 0.09720232],\n",
       "       [0.88491076, 0.11508924],\n",
       "       [0.77650585, 0.22349415],\n",
       "       [0.83733655, 0.16266345],\n",
       "       [0.86450647, 0.13549353],\n",
       "       [0.29092868, 0.70907132],\n",
       "       [0.83247266, 0.16752734],\n",
       "       [0.84101489, 0.15898511],\n",
       "       [0.94047446, 0.05952554],\n",
       "       [0.86995512, 0.13004488],\n",
       "       [0.8700621 , 0.1299379 ],\n",
       "       [0.29594188, 0.70405812],\n",
       "       [0.41145513, 0.58854487],\n",
       "       [0.88735566, 0.11264434],\n",
       "       [0.08122417, 0.91877583],\n",
       "       [0.93598049, 0.06401951],\n",
       "       [0.45989601, 0.54010399],\n",
       "       [0.8409883 , 0.1590117 ],\n",
       "       [0.17225625, 0.82774375],\n",
       "       [0.44673544, 0.55326456],\n",
       "       [0.25768515, 0.74231485],\n",
       "       [0.90814511, 0.09185489],\n",
       "       [0.83962158, 0.16037842],\n",
       "       [0.11079222, 0.88920778],\n",
       "       [0.40387407, 0.59612593],\n",
       "       [0.10498737, 0.89501263],\n",
       "       [0.89197541, 0.10802459]])"
      ]
     },
     "execution_count": 51,
     "metadata": {},
     "output_type": "execute_result"
    }
   ],
   "source": [
    "y_test_prob"
   ]
  },
  {
   "cell_type": "raw",
   "id": "9f0b5088",
   "metadata": {},
   "source": [
    "         Class 0      Class 1\n",
    "          \n",
    "       [0.90296168, 0.09703832] >> 0\n",
    "       [0.82737112, 0.17262888] >> 0\n",
    "       [0.86984198, 0.13015802] >> 0\n",
    "       [0.79426396, 0.20573604] >> 0\n",
    "       [0.9133834 , 0.0866166 ] >> 0\n",
    "       [0.35432954, 0.64567046] >> 1"
   ]
  },
  {
   "cell_type": "code",
   "execution_count": 52,
   "id": "7b4e03bb",
   "metadata": {},
   "outputs": [
    {
     "data": {
      "text/plain": [
       "array([0.09703832, 0.17262888, 0.13015802, 0.20573604, 0.0866166 ,\n",
       "       0.64567046, 0.82485275, 0.84826171, 0.03932658, 0.48526129,\n",
       "       0.09703832, 0.13004426, 0.7290037 , 0.09720232, 0.50250562,\n",
       "       0.25540803, 0.01456073, 0.58932705, 0.66012953, 0.54318467,\n",
       "       0.9378175 , 0.58347428, 0.06658303, 0.36642658, 0.16177107,\n",
       "       0.02494174, 0.116559  , 0.18547746, 0.81641387, 0.85519296,\n",
       "       0.11364151, 0.94000907, 0.07736333, 0.45083894, 0.94271361,\n",
       "       0.86343208, 0.91624464, 0.58881256, 0.20956403, 0.84466016,\n",
       "       0.10754923, 0.13004123, 0.90021574, 0.17914689, 0.07732306,\n",
       "       0.47417043, 0.09721978, 0.91394171, 0.74345766, 0.54561801,\n",
       "       0.46270154, 0.11024615, 0.81853018, 0.38515272, 0.95538421,\n",
       "       0.40330377, 0.14290322, 0.16149049, 0.58538447, 0.9564865 ,\n",
       "       0.90396221, 0.08620034, 0.83734941, 0.76841957, 0.70949019,\n",
       "       0.82780925, 0.13549353, 0.03179832, 0.05134208, 0.13559113,\n",
       "       0.08617494, 0.27991485, 0.59301589, 0.09640722, 0.08225271,\n",
       "       0.26559516, 0.09720232, 0.94196674, 0.48526129, 0.09320646,\n",
       "       0.22249306, 0.25223214, 0.36790258, 0.18126669, 0.56093313,\n",
       "       0.24680041, 0.10286112, 0.07006067, 0.48814539, 0.14323993,\n",
       "       0.37375703, 0.86556064, 0.56093182, 0.13527396, 0.25761516,\n",
       "       0.14990548, 0.95712172, 0.14201092, 0.04051148, 0.81246116,\n",
       "       0.21949523, 0.62044215, 0.62276002, 0.49021825, 0.40161326,\n",
       "       0.83876272, 0.62727721, 0.49617963, 0.47391062, 0.20109345,\n",
       "       0.36207041, 0.60068659, 0.77030509, 0.46473333, 0.75541985,\n",
       "       0.21132964, 0.14286701, 0.6657776 , 0.63386343, 0.13583125,\n",
       "       0.09725893, 0.1703077 , 0.09720232, 0.68296456, 0.26151737,\n",
       "       0.07301788, 0.22138576, 0.10878045, 0.0870278 , 0.94689877,\n",
       "       0.30580739, 0.48814539, 0.5433447 , 0.17660569, 0.05453346,\n",
       "       0.37978814, 0.18570492, 0.16343634, 0.09185489, 0.94382366,\n",
       "       0.01351496, 0.13004123, 0.12312771, 0.09185489, 0.14309027,\n",
       "       0.13731264, 0.153651  , 0.04427462, 0.20489923, 0.85805672,\n",
       "       0.2697284 , 0.07736333, 0.09720232, 0.11508924, 0.22349415,\n",
       "       0.16266345, 0.13549353, 0.70907132, 0.16752734, 0.15898511,\n",
       "       0.05952554, 0.13004488, 0.1299379 , 0.70405812, 0.58854487,\n",
       "       0.11264434, 0.91877583, 0.06401951, 0.54010399, 0.1590117 ,\n",
       "       0.82774375, 0.55326456, 0.74231485, 0.09185489, 0.16037842,\n",
       "       0.88920778, 0.59612593, 0.89501263, 0.10802459])"
      ]
     },
     "execution_count": 52,
     "metadata": {},
     "output_type": "execute_result"
    }
   ],
   "source": [
    "y_test_prob[:,1]"
   ]
  },
  {
   "cell_type": "code",
   "execution_count": null,
   "id": "59cb8856",
   "metadata": {},
   "outputs": [],
   "source": []
  },
  {
   "cell_type": "code",
   "execution_count": 53,
   "id": "84fc1182",
   "metadata": {},
   "outputs": [],
   "source": [
    "fpr,tpr,thresh = roc_curve(y_test, y_test_prob[:,1])"
   ]
  },
  {
   "cell_type": "code",
   "execution_count": 54,
   "id": "1ea79cc8",
   "metadata": {},
   "outputs": [
    {
     "name": "stdout",
     "output_type": "stream",
     "text": [
      "[0.         0.         0.         0.00909091 0.00909091 0.01818182\n",
      " 0.01818182 0.03636364 0.03636364 0.04545455 0.04545455 0.05454545\n",
      " 0.05454545 0.06363636 0.06363636 0.10909091 0.10909091 0.12727273\n",
      " 0.12727273 0.13636364 0.14545455 0.14545455 0.14545455 0.15454545\n",
      " 0.15454545 0.2        0.2        0.20909091 0.20909091 0.23636364\n",
      " 0.23636364 0.37272727 0.37272727 0.42727273 0.42727273 0.48181818\n",
      " 0.48181818 0.55454545 0.55454545 0.56363636 0.58181818 0.61818182\n",
      " 0.63636364 0.64545455 0.64545455 0.67272727 0.67272727 0.70909091\n",
      " 0.70909091 0.72727273 0.76363636 0.78181818 0.8        0.81818182\n",
      " 0.82727273 0.82727273 0.85454545 0.86363636 1.        ] 59\n"
     ]
    }
   ],
   "source": [
    "print(fpr, len(fpr))"
   ]
  },
  {
   "cell_type": "code",
   "execution_count": 55,
   "id": "765fe053",
   "metadata": {},
   "outputs": [
    {
     "name": "stdout",
     "output_type": "stream",
     "text": [
      "[0.         0.01449275 0.42028986 0.42028986 0.43478261 0.43478261\n",
      " 0.55072464 0.55072464 0.57971014 0.57971014 0.62318841 0.62318841\n",
      " 0.65217391 0.65217391 0.66666667 0.66666667 0.68115942 0.68115942\n",
      " 0.72463768 0.72463768 0.73913043 0.76811594 0.7826087  0.7826087\n",
      " 0.79710145 0.79710145 0.82608696 0.82608696 0.84057971 0.84057971\n",
      " 0.85507246 0.85507246 0.86956522 0.86956522 0.88405797 0.88405797\n",
      " 0.89855072 0.89855072 0.91304348 0.91304348 0.91304348 0.91304348\n",
      " 0.91304348 0.91304348 0.92753623 0.92753623 0.94202899 0.94202899\n",
      " 0.95652174 0.95652174 0.95652174 0.95652174 0.95652174 0.97101449\n",
      " 0.97101449 0.98550725 0.98550725 1.         1.        ] 59\n"
     ]
    }
   ],
   "source": [
    "print(tpr, len(fpr))"
   ]
  },
  {
   "cell_type": "code",
   "execution_count": 56,
   "id": "f249d2bc",
   "metadata": {},
   "outputs": [
    {
     "name": "stdout",
     "output_type": "stream",
     "text": [
      "[1.95712172 0.95712172 0.81641387 0.81246116 0.77030509 0.76841957\n",
      " 0.68296456 0.66012953 0.63386343 0.62727721 0.60068659 0.59612593\n",
      " 0.58932705 0.58881256 0.58854487 0.55326456 0.54561801 0.54318467\n",
      " 0.49617963 0.49021825 0.48814539 0.48526129 0.47417043 0.47391062\n",
      " 0.46473333 0.38515272 0.37375703 0.36790258 0.36642658 0.27991485\n",
      " 0.2697284  0.20109345 0.18570492 0.1703077  0.16752734 0.1590117\n",
      " 0.15898511 0.13731264 0.13583125 0.13559113 0.13549353 0.13004426\n",
      " 0.13004123 0.1299379  0.12312771 0.11364151 0.11264434 0.10754923\n",
      " 0.10286112 0.09721978 0.09720232 0.09703832 0.09320646 0.09185489\n",
      " 0.0870278  0.0866166  0.08225271 0.07736333 0.01351496] 59\n"
     ]
    }
   ],
   "source": [
    "print(thresh, len(thresh))"
   ]
  },
  {
   "cell_type": "raw",
   "id": "e323f77d",
   "metadata": {},
   "source": [
    "threshold = 0.5\n",
    "tpr = 0.65\n",
    "fpr = 0.12"
   ]
  },
  {
   "cell_type": "code",
   "execution_count": null,
   "id": "44f8b738",
   "metadata": {},
   "outputs": [],
   "source": []
  },
  {
   "cell_type": "code",
   "execution_count": null,
   "id": "edc70535",
   "metadata": {},
   "outputs": [],
   "source": []
  },
  {
   "cell_type": "code",
   "execution_count": 57,
   "id": "c5b45359",
   "metadata": {},
   "outputs": [
    {
     "data": {
      "text/plain": [
       "Text(0, 0.5, 'TPR')"
      ]
     },
     "execution_count": 57,
     "metadata": {},
     "output_type": "execute_result"
    },
    {
     "data": {
      "image/png": "[encoded data removed]",
      "text/plain": [
       "<Figure size 360x360 with 1 Axes>"
      ]
     },
     "metadata": {},
     "output_type": "display_data"
    }
   ],
   "source": [
    "## ROC-AUC Curve\n",
    "plt.figure(figsize=(5,5),facecolor=\"white\")\n",
    "plt.title(\"AUC and ROC curve\")\n",
    "plt.plot(fpr,tpr)\n",
    "plt.xlabel(\"FPR\")\n",
    "plt.ylabel(\"TPR\")"
   ]
  },
  {
   "cell_type": "code",
   "execution_count": 58,
   "id": "2240321f",
   "metadata": {},
   "outputs": [
    {
     "data": {
      "text/plain": [
       "0.8700922266139657"
      ]
     },
     "execution_count": 58,
     "metadata": {},
     "output_type": "execute_result"
    }
   ],
   "source": [
    "roc_auc_score(y_test, y_test_prob[:,1])"
   ]
  },
  {
   "cell_type": "code",
   "execution_count": null,
   "id": "cf109c84",
   "metadata": {},
   "outputs": [],
   "source": []
  },
  {
   "cell_type": "code",
   "execution_count": 92,
   "id": "6a76d99d",
   "metadata": {},
   "outputs": [
    {
     "data": {
      "text/html": [
       "<div>\n",
       "<style scoped>\n",
       "    .dataframe tbody tr th:only-of-type {\n",
       "        vertical-align: middle;\n",
       "    }\n",
       "\n",
       "    .dataframe tbody tr th {\n",
       "        vertical-align: top;\n",
       "    }\n",
       "\n",
       "    .dataframe thead th {\n",
       "        text-align: right;\n",
       "    }\n",
       "</style>\n",
       "<table border=\"1\" class=\"dataframe\">\n",
       "  <thead>\n",
       "    <tr style=\"text-align: right;\">\n",
       "      <th></th>\n",
       "      <th>Pclass</th>\n",
       "      <th>Gender</th>\n",
       "      <th>Age</th>\n",
       "      <th>SibSp</th>\n",
       "      <th>Parch</th>\n",
       "      <th>Fare</th>\n",
       "      <th>Q</th>\n",
       "      <th>S</th>\n",
       "    </tr>\n",
       "  </thead>\n",
       "  <tbody>\n",
       "    <tr>\n",
       "      <th>200</th>\n",
       "      <td>3</td>\n",
       "      <td>0.0</td>\n",
       "      <td>28.0</td>\n",
       "      <td>0</td>\n",
       "      <td>0</td>\n",
       "      <td>9.5000</td>\n",
       "      <td>0</td>\n",
       "      <td>1</td>\n",
       "    </tr>\n",
       "    <tr>\n",
       "      <th>812</th>\n",
       "      <td>2</td>\n",
       "      <td>0.0</td>\n",
       "      <td>35.0</td>\n",
       "      <td>0</td>\n",
       "      <td>0</td>\n",
       "      <td>10.5000</td>\n",
       "      <td>0</td>\n",
       "      <td>1</td>\n",
       "    </tr>\n",
       "    <tr>\n",
       "      <th>825</th>\n",
       "      <td>3</td>\n",
       "      <td>0.0</td>\n",
       "      <td>28.0</td>\n",
       "      <td>0</td>\n",
       "      <td>0</td>\n",
       "      <td>6.9500</td>\n",
       "      <td>1</td>\n",
       "      <td>0</td>\n",
       "    </tr>\n",
       "    <tr>\n",
       "      <th>50</th>\n",
       "      <td>3</td>\n",
       "      <td>0.0</td>\n",
       "      <td>7.0</td>\n",
       "      <td>4</td>\n",
       "      <td>1</td>\n",
       "      <td>39.6875</td>\n",
       "      <td>0</td>\n",
       "      <td>1</td>\n",
       "    </tr>\n",
       "    <tr>\n",
       "      <th>286</th>\n",
       "      <td>3</td>\n",
       "      <td>0.0</td>\n",
       "      <td>30.0</td>\n",
       "      <td>0</td>\n",
       "      <td>0</td>\n",
       "      <td>9.5000</td>\n",
       "      <td>0</td>\n",
       "      <td>1</td>\n",
       "    </tr>\n",
       "    <tr>\n",
       "      <th>394</th>\n",
       "      <td>3</td>\n",
       "      <td>1.0</td>\n",
       "      <td>24.0</td>\n",
       "      <td>0</td>\n",
       "      <td>2</td>\n",
       "      <td>16.7000</td>\n",
       "      <td>0</td>\n",
       "      <td>1</td>\n",
       "    </tr>\n",
       "    <tr>\n",
       "      <th>437</th>\n",
       "      <td>2</td>\n",
       "      <td>1.0</td>\n",
       "      <td>24.0</td>\n",
       "      <td>2</td>\n",
       "      <td>3</td>\n",
       "      <td>18.7500</td>\n",
       "      <td>0</td>\n",
       "      <td>1</td>\n",
       "    </tr>\n",
       "    <tr>\n",
       "      <th>230</th>\n",
       "      <td>1</td>\n",
       "      <td>1.0</td>\n",
       "      <td>35.0</td>\n",
       "      <td>1</td>\n",
       "      <td>0</td>\n",
       "      <td>83.4750</td>\n",
       "      <td>0</td>\n",
       "      <td>1</td>\n",
       "    </tr>\n",
       "    <tr>\n",
       "      <th>684</th>\n",
       "      <td>2</td>\n",
       "      <td>0.0</td>\n",
       "      <td>60.0</td>\n",
       "      <td>1</td>\n",
       "      <td>1</td>\n",
       "      <td>39.0000</td>\n",
       "      <td>0</td>\n",
       "      <td>1</td>\n",
       "    </tr>\n",
       "    <tr>\n",
       "      <th>23</th>\n",
       "      <td>1</td>\n",
       "      <td>0.0</td>\n",
       "      <td>28.0</td>\n",
       "      <td>0</td>\n",
       "      <td>0</td>\n",
       "      <td>35.5000</td>\n",
       "      <td>0</td>\n",
       "      <td>1</td>\n",
       "    </tr>\n",
       "  </tbody>\n",
       "</table>\n",
       "</div>"
      ],
      "text/plain": [
       "     Pclass  Gender   Age  SibSp  Parch     Fare  Q  S\n",
       "200       3     0.0  28.0      0      0   9.5000  0  1\n",
       "812       2     0.0  35.0      0      0  10.5000  0  1\n",
       "825       3     0.0  28.0      0      0   6.9500  1  0\n",
       "50        3     0.0   7.0      4      1  39.6875  0  1\n",
       "286       3     0.0  30.0      0      0   9.5000  0  1\n",
       "394       3     1.0  24.0      0      2  16.7000  0  1\n",
       "437       2     1.0  24.0      2      3  18.7500  0  1\n",
       "230       1     1.0  35.0      1      0  83.4750  0  1\n",
       "684       2     0.0  60.0      1      1  39.0000  0  1\n",
       "23        1     0.0  28.0      0      0  35.5000  0  1"
      ]
     },
     "execution_count": 92,
     "metadata": {},
     "output_type": "execute_result"
    }
   ],
   "source": [
    "x_test.head(10)"
   ]
  },
  {
   "cell_type": "code",
   "execution_count": 91,
   "id": "3b6cacd1",
   "metadata": {},
   "outputs": [
    {
     "data": {
      "text/plain": [
       "array([1], dtype=int64)"
      ]
     },
     "execution_count": 91,
     "metadata": {},
     "output_type": "execute_result"
    }
   ],
   "source": [
    "classifier.predict(x_test.iloc[7:8])"
   ]
  },
  {
   "cell_type": "code",
   "execution_count": 87,
   "id": "89b98761",
   "metadata": {},
   "outputs": [
    {
     "data": {
      "text/plain": [
       "Index(['Pclass', 'Gender', 'Age', 'SibSp', 'Parch', 'Fare', 'Q', 'S'], dtype='object')"
      ]
     },
     "execution_count": 87,
     "metadata": {},
     "output_type": "execute_result"
    }
   ],
   "source": [
    "x_test.columns"
   ]
  },
  {
   "cell_type": "code",
   "execution_count": 88,
   "id": "73520c76",
   "metadata": {},
   "outputs": [
    {
     "data": {
      "text/plain": [
       "0"
      ]
     },
     "execution_count": 88,
     "metadata": {},
     "output_type": "execute_result"
    }
   ],
   "source": [
    "def predict_cls(Pclass,Gender,Age,SibSp,Parch,Fare,Q,S):\n",
    "    pred = classifier.predict([[Pclass, Gender, Age, SibSp, Parch, Fare, Q, S]])\n",
    "    return pred[0]\n",
    "predict_cls(3,0,25,0,1,10,1,0)"
   ]
  },
  {
   "cell_type": "code",
   "execution_count": null,
   "id": "e1c5b227",
   "metadata": {},
   "outputs": [],
   "source": []
  },
  {
   "cell_type": "code",
   "execution_count": 89,
   "id": "741c4fa9",
   "metadata": {},
   "outputs": [
    {
     "data": {
      "text/plain": [
       "array([0, 0, 0, 0, 0], dtype=int64)"
      ]
     },
     "execution_count": 89,
     "metadata": {},
     "output_type": "execute_result"
    }
   ],
   "source": [
    "classifier.predict(x_test.head())"
   ]
  },
  {
   "cell_type": "code",
   "execution_count": 90,
   "id": "a93ebf7e",
   "metadata": {},
   "outputs": [],
   "source": [
    "import pickle\n",
    "import os\n",
    "MODEL_FOLDER_PATH = \"model\"\n",
    "\n",
    "if not os.path.exists(MODEL_FOLDER_PATH):\n",
    "    os.mkdir(MODEL_FOLDER_PATH)\n",
    "pickle.dump(classifier, open(f\"{MODEL_FOLDER_PATH}/model.pkl\", \"wb\"))"
   ]
  },
  {
   "cell_type": "code",
   "execution_count": null,
   "id": "5f0719cd",
   "metadata": {},
   "outputs": [],
   "source": []
  }
 ],
 "metadata": {
  "kernelspec": {
   "display_name": "Python 3.9.12 ('base')",
   "language": "python",
   "name": "python3"
  },
  "language_info": {
   "codemirror_mode": {
    "name": "ipython",
    "version": 3
   },
   "file_extension": ".py",
   "mimetype": "text/x-python",
   "name": "python",
   "nbconvert_exporter": "python",
   "pygments_lexer": "ipython3",
   "version": "3.9.12"
  },
  "vscode": {
   "interpreter": {
    "hash": "2cd1a951032f7352ae3168ddd8bf9e6a804496d0e856e8ba8d93099e51bff633"
   }
  }
 },
 "nbformat": 4,
 "nbformat_minor": 5
}
