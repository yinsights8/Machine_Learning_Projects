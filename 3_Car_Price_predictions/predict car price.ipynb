{
 "cells": [
  {
   "cell_type": "code",
   "execution_count": 1,
   "id": "1149152b",
   "metadata": {},
   "outputs": [],
   "source": [
    "import pandas as pd\n",
    "import numpy as np\n",
    "\n",
    "from sklearn.linear_model import LinearRegression, Lasso, Ridge\n",
    "from sklearn.model_selection import train_test_split, GridSearchCV, RandomizedSearchCV\n",
    "from sklearn.metrics import r2_score, mean_absolute_error, mean_squared_error\n",
    "\n",
    "\n",
    "import seaborn as sns\n",
    "import matplotlib.pyplot as plt"
   ]
  },
  {
   "cell_type": "markdown",
   "id": "9e3fe3c0",
   "metadata": {},
   "source": [
    "## 1. Problem statement"
   ]
  },
  {
   "cell_type": "markdown",
   "id": "3b49675e",
   "metadata": {},
   "source": [
    "## 2. Data Gatharing "
   ]
  },
  {
   "cell_type": "code",
   "execution_count": 2,
   "id": "1862d1cb",
   "metadata": {},
   "outputs": [
    {
     "data": {
      "text/html": [
       "<div>\n",
       "<style scoped>\n",
       "    .dataframe tbody tr th:only-of-type {\n",
       "        vertical-align: middle;\n",
       "    }\n",
       "\n",
       "    .dataframe tbody tr th {\n",
       "        vertical-align: top;\n",
       "    }\n",
       "\n",
       "    .dataframe thead th {\n",
       "        text-align: right;\n",
       "    }\n",
       "</style>\n",
       "<table border=\"1\" class=\"dataframe\">\n",
       "  <thead>\n",
       "    <tr style=\"text-align: right;\">\n",
       "      <th></th>\n",
       "      <th>car_ID</th>\n",
       "      <th>symboling</th>\n",
       "      <th>CarName</th>\n",
       "      <th>fueltype</th>\n",
       "      <th>aspiration</th>\n",
       "      <th>doornumber</th>\n",
       "      <th>carbody</th>\n",
       "      <th>drivewheel</th>\n",
       "      <th>enginelocation</th>\n",
       "      <th>wheelbase</th>\n",
       "      <th>...</th>\n",
       "      <th>enginesize</th>\n",
       "      <th>fuelsystem</th>\n",
       "      <th>boreratio</th>\n",
       "      <th>stroke</th>\n",
       "      <th>compressionratio</th>\n",
       "      <th>horsepower</th>\n",
       "      <th>peakrpm</th>\n",
       "      <th>citympg</th>\n",
       "      <th>highwaympg</th>\n",
       "      <th>price</th>\n",
       "    </tr>\n",
       "  </thead>\n",
       "  <tbody>\n",
       "    <tr>\n",
       "      <th>0</th>\n",
       "      <td>1</td>\n",
       "      <td>3</td>\n",
       "      <td>alfa-romero giulia</td>\n",
       "      <td>gas</td>\n",
       "      <td>std</td>\n",
       "      <td>two</td>\n",
       "      <td>convertible</td>\n",
       "      <td>rwd</td>\n",
       "      <td>front</td>\n",
       "      <td>88.6</td>\n",
       "      <td>...</td>\n",
       "      <td>130</td>\n",
       "      <td>mpfi</td>\n",
       "      <td>3.47</td>\n",
       "      <td>2.68</td>\n",
       "      <td>9.0</td>\n",
       "      <td>111</td>\n",
       "      <td>5000</td>\n",
       "      <td>21</td>\n",
       "      <td>27</td>\n",
       "      <td>13495.0</td>\n",
       "    </tr>\n",
       "    <tr>\n",
       "      <th>1</th>\n",
       "      <td>2</td>\n",
       "      <td>3</td>\n",
       "      <td>alfa-romero stelvio</td>\n",
       "      <td>gas</td>\n",
       "      <td>std</td>\n",
       "      <td>two</td>\n",
       "      <td>convertible</td>\n",
       "      <td>rwd</td>\n",
       "      <td>front</td>\n",
       "      <td>88.6</td>\n",
       "      <td>...</td>\n",
       "      <td>130</td>\n",
       "      <td>mpfi</td>\n",
       "      <td>3.47</td>\n",
       "      <td>2.68</td>\n",
       "      <td>9.0</td>\n",
       "      <td>111</td>\n",
       "      <td>5000</td>\n",
       "      <td>21</td>\n",
       "      <td>27</td>\n",
       "      <td>16500.0</td>\n",
       "    </tr>\n",
       "    <tr>\n",
       "      <th>2</th>\n",
       "      <td>3</td>\n",
       "      <td>1</td>\n",
       "      <td>alfa-romero Quadrifoglio</td>\n",
       "      <td>gas</td>\n",
       "      <td>std</td>\n",
       "      <td>two</td>\n",
       "      <td>hatchback</td>\n",
       "      <td>rwd</td>\n",
       "      <td>front</td>\n",
       "      <td>94.5</td>\n",
       "      <td>...</td>\n",
       "      <td>152</td>\n",
       "      <td>mpfi</td>\n",
       "      <td>2.68</td>\n",
       "      <td>3.47</td>\n",
       "      <td>9.0</td>\n",
       "      <td>154</td>\n",
       "      <td>5000</td>\n",
       "      <td>19</td>\n",
       "      <td>26</td>\n",
       "      <td>16500.0</td>\n",
       "    </tr>\n",
       "    <tr>\n",
       "      <th>3</th>\n",
       "      <td>4</td>\n",
       "      <td>2</td>\n",
       "      <td>audi 100 ls</td>\n",
       "      <td>gas</td>\n",
       "      <td>std</td>\n",
       "      <td>four</td>\n",
       "      <td>sedan</td>\n",
       "      <td>fwd</td>\n",
       "      <td>front</td>\n",
       "      <td>99.8</td>\n",
       "      <td>...</td>\n",
       "      <td>109</td>\n",
       "      <td>mpfi</td>\n",
       "      <td>3.19</td>\n",
       "      <td>3.40</td>\n",
       "      <td>10.0</td>\n",
       "      <td>102</td>\n",
       "      <td>5500</td>\n",
       "      <td>24</td>\n",
       "      <td>30</td>\n",
       "      <td>13950.0</td>\n",
       "    </tr>\n",
       "    <tr>\n",
       "      <th>4</th>\n",
       "      <td>5</td>\n",
       "      <td>2</td>\n",
       "      <td>audi 100ls</td>\n",
       "      <td>gas</td>\n",
       "      <td>std</td>\n",
       "      <td>four</td>\n",
       "      <td>sedan</td>\n",
       "      <td>4wd</td>\n",
       "      <td>front</td>\n",
       "      <td>99.4</td>\n",
       "      <td>...</td>\n",
       "      <td>136</td>\n",
       "      <td>mpfi</td>\n",
       "      <td>3.19</td>\n",
       "      <td>3.40</td>\n",
       "      <td>8.0</td>\n",
       "      <td>115</td>\n",
       "      <td>5500</td>\n",
       "      <td>18</td>\n",
       "      <td>22</td>\n",
       "      <td>17450.0</td>\n",
       "    </tr>\n",
       "  </tbody>\n",
       "</table>\n",
       "<p>5 rows × 26 columns</p>\n",
       "</div>"
      ],
      "text/plain": [
       "   car_ID  symboling                   CarName fueltype aspiration doornumber  \\\n",
       "0       1          3        alfa-romero giulia      gas        std        two   \n",
       "1       2          3       alfa-romero stelvio      gas        std        two   \n",
       "2       3          1  alfa-romero Quadrifoglio      gas        std        two   \n",
       "3       4          2               audi 100 ls      gas        std       four   \n",
       "4       5          2                audi 100ls      gas        std       four   \n",
       "\n",
       "       carbody drivewheel enginelocation  wheelbase  ...  enginesize  \\\n",
       "0  convertible        rwd          front       88.6  ...         130   \n",
       "1  convertible        rwd          front       88.6  ...         130   \n",
       "2    hatchback        rwd          front       94.5  ...         152   \n",
       "3        sedan        fwd          front       99.8  ...         109   \n",
       "4        sedan        4wd          front       99.4  ...         136   \n",
       "\n",
       "   fuelsystem  boreratio  stroke compressionratio horsepower  peakrpm citympg  \\\n",
       "0        mpfi       3.47    2.68              9.0        111     5000      21   \n",
       "1        mpfi       3.47    2.68              9.0        111     5000      21   \n",
       "2        mpfi       2.68    3.47              9.0        154     5000      19   \n",
       "3        mpfi       3.19    3.40             10.0        102     5500      24   \n",
       "4        mpfi       3.19    3.40              8.0        115     5500      18   \n",
       "\n",
       "   highwaympg    price  \n",
       "0          27  13495.0  \n",
       "1          27  16500.0  \n",
       "2          26  16500.0  \n",
       "3          30  13950.0  \n",
       "4          22  17450.0  \n",
       "\n",
       "[5 rows x 26 columns]"
      ]
     },
     "execution_count": 2,
     "metadata": {},
     "output_type": "execute_result"
    }
   ],
   "source": [
    "dataf = pd.read_csv(\"CarPrice_Assignment.csv\")\n",
    "dataf.head()"
   ]
  },
  {
   "cell_type": "code",
   "execution_count": 3,
   "id": "79d938c7",
   "metadata": {},
   "outputs": [
    {
     "data": {
      "text/html": [
       "<div>\n",
       "<style scoped>\n",
       "    .dataframe tbody tr th:only-of-type {\n",
       "        vertical-align: middle;\n",
       "    }\n",
       "\n",
       "    .dataframe tbody tr th {\n",
       "        vertical-align: top;\n",
       "    }\n",
       "\n",
       "    .dataframe thead th {\n",
       "        text-align: right;\n",
       "    }\n",
       "</style>\n",
       "<table border=\"1\" class=\"dataframe\">\n",
       "  <thead>\n",
       "    <tr style=\"text-align: right;\">\n",
       "      <th></th>\n",
       "      <th>0</th>\n",
       "      <th>1</th>\n",
       "      <th>2</th>\n",
       "      <th>3</th>\n",
       "      <th>4</th>\n",
       "      <th>5</th>\n",
       "      <th>6</th>\n",
       "      <th>7</th>\n",
       "      <th>8</th>\n",
       "      <th>9</th>\n",
       "      <th>...</th>\n",
       "      <th>195</th>\n",
       "      <th>196</th>\n",
       "      <th>197</th>\n",
       "      <th>198</th>\n",
       "      <th>199</th>\n",
       "      <th>200</th>\n",
       "      <th>201</th>\n",
       "      <th>202</th>\n",
       "      <th>203</th>\n",
       "      <th>204</th>\n",
       "    </tr>\n",
       "  </thead>\n",
       "  <tbody>\n",
       "    <tr>\n",
       "      <th>car_ID</th>\n",
       "      <td>1</td>\n",
       "      <td>2</td>\n",
       "      <td>3</td>\n",
       "      <td>4</td>\n",
       "      <td>5</td>\n",
       "      <td>6</td>\n",
       "      <td>7</td>\n",
       "      <td>8</td>\n",
       "      <td>9</td>\n",
       "      <td>10</td>\n",
       "      <td>...</td>\n",
       "      <td>196</td>\n",
       "      <td>197</td>\n",
       "      <td>198</td>\n",
       "      <td>199</td>\n",
       "      <td>200</td>\n",
       "      <td>201</td>\n",
       "      <td>202</td>\n",
       "      <td>203</td>\n",
       "      <td>204</td>\n",
       "      <td>205</td>\n",
       "    </tr>\n",
       "    <tr>\n",
       "      <th>symboling</th>\n",
       "      <td>3</td>\n",
       "      <td>3</td>\n",
       "      <td>1</td>\n",
       "      <td>2</td>\n",
       "      <td>2</td>\n",
       "      <td>2</td>\n",
       "      <td>1</td>\n",
       "      <td>1</td>\n",
       "      <td>1</td>\n",
       "      <td>0</td>\n",
       "      <td>...</td>\n",
       "      <td>-1</td>\n",
       "      <td>-2</td>\n",
       "      <td>-1</td>\n",
       "      <td>-2</td>\n",
       "      <td>-1</td>\n",
       "      <td>-1</td>\n",
       "      <td>-1</td>\n",
       "      <td>-1</td>\n",
       "      <td>-1</td>\n",
       "      <td>-1</td>\n",
       "    </tr>\n",
       "    <tr>\n",
       "      <th>CarName</th>\n",
       "      <td>alfa-romero giulia</td>\n",
       "      <td>alfa-romero stelvio</td>\n",
       "      <td>alfa-romero Quadrifoglio</td>\n",
       "      <td>audi 100 ls</td>\n",
       "      <td>audi 100ls</td>\n",
       "      <td>audi fox</td>\n",
       "      <td>audi 100ls</td>\n",
       "      <td>audi 5000</td>\n",
       "      <td>audi 4000</td>\n",
       "      <td>audi 5000s (diesel)</td>\n",
       "      <td>...</td>\n",
       "      <td>volvo 144ea</td>\n",
       "      <td>volvo 244dl</td>\n",
       "      <td>volvo 245</td>\n",
       "      <td>volvo 264gl</td>\n",
       "      <td>volvo diesel</td>\n",
       "      <td>volvo 145e (sw)</td>\n",
       "      <td>volvo 144ea</td>\n",
       "      <td>volvo 244dl</td>\n",
       "      <td>volvo 246</td>\n",
       "      <td>volvo 264gl</td>\n",
       "    </tr>\n",
       "    <tr>\n",
       "      <th>fueltype</th>\n",
       "      <td>gas</td>\n",
       "      <td>gas</td>\n",
       "      <td>gas</td>\n",
       "      <td>gas</td>\n",
       "      <td>gas</td>\n",
       "      <td>gas</td>\n",
       "      <td>gas</td>\n",
       "      <td>gas</td>\n",
       "      <td>gas</td>\n",
       "      <td>gas</td>\n",
       "      <td>...</td>\n",
       "      <td>gas</td>\n",
       "      <td>gas</td>\n",
       "      <td>gas</td>\n",
       "      <td>gas</td>\n",
       "      <td>gas</td>\n",
       "      <td>gas</td>\n",
       "      <td>gas</td>\n",
       "      <td>gas</td>\n",
       "      <td>diesel</td>\n",
       "      <td>gas</td>\n",
       "    </tr>\n",
       "    <tr>\n",
       "      <th>aspiration</th>\n",
       "      <td>std</td>\n",
       "      <td>std</td>\n",
       "      <td>std</td>\n",
       "      <td>std</td>\n",
       "      <td>std</td>\n",
       "      <td>std</td>\n",
       "      <td>std</td>\n",
       "      <td>std</td>\n",
       "      <td>turbo</td>\n",
       "      <td>turbo</td>\n",
       "      <td>...</td>\n",
       "      <td>std</td>\n",
       "      <td>std</td>\n",
       "      <td>std</td>\n",
       "      <td>turbo</td>\n",
       "      <td>turbo</td>\n",
       "      <td>std</td>\n",
       "      <td>turbo</td>\n",
       "      <td>std</td>\n",
       "      <td>turbo</td>\n",
       "      <td>turbo</td>\n",
       "    </tr>\n",
       "    <tr>\n",
       "      <th>doornumber</th>\n",
       "      <td>two</td>\n",
       "      <td>two</td>\n",
       "      <td>two</td>\n",
       "      <td>four</td>\n",
       "      <td>four</td>\n",
       "      <td>two</td>\n",
       "      <td>four</td>\n",
       "      <td>four</td>\n",
       "      <td>four</td>\n",
       "      <td>two</td>\n",
       "      <td>...</td>\n",
       "      <td>four</td>\n",
       "      <td>four</td>\n",
       "      <td>four</td>\n",
       "      <td>four</td>\n",
       "      <td>four</td>\n",
       "      <td>four</td>\n",
       "      <td>four</td>\n",
       "      <td>four</td>\n",
       "      <td>four</td>\n",
       "      <td>four</td>\n",
       "    </tr>\n",
       "    <tr>\n",
       "      <th>carbody</th>\n",
       "      <td>convertible</td>\n",
       "      <td>convertible</td>\n",
       "      <td>hatchback</td>\n",
       "      <td>sedan</td>\n",
       "      <td>sedan</td>\n",
       "      <td>sedan</td>\n",
       "      <td>sedan</td>\n",
       "      <td>wagon</td>\n",
       "      <td>sedan</td>\n",
       "      <td>hatchback</td>\n",
       "      <td>...</td>\n",
       "      <td>wagon</td>\n",
       "      <td>sedan</td>\n",
       "      <td>wagon</td>\n",
       "      <td>sedan</td>\n",
       "      <td>wagon</td>\n",
       "      <td>sedan</td>\n",
       "      <td>sedan</td>\n",
       "      <td>sedan</td>\n",
       "      <td>sedan</td>\n",
       "      <td>sedan</td>\n",
       "    </tr>\n",
       "    <tr>\n",
       "      <th>drivewheel</th>\n",
       "      <td>rwd</td>\n",
       "      <td>rwd</td>\n",
       "      <td>rwd</td>\n",
       "      <td>fwd</td>\n",
       "      <td>4wd</td>\n",
       "      <td>fwd</td>\n",
       "      <td>fwd</td>\n",
       "      <td>fwd</td>\n",
       "      <td>fwd</td>\n",
       "      <td>4wd</td>\n",
       "      <td>...</td>\n",
       "      <td>rwd</td>\n",
       "      <td>rwd</td>\n",
       "      <td>rwd</td>\n",
       "      <td>rwd</td>\n",
       "      <td>rwd</td>\n",
       "      <td>rwd</td>\n",
       "      <td>rwd</td>\n",
       "      <td>rwd</td>\n",
       "      <td>rwd</td>\n",
       "      <td>rwd</td>\n",
       "    </tr>\n",
       "    <tr>\n",
       "      <th>enginelocation</th>\n",
       "      <td>front</td>\n",
       "      <td>front</td>\n",
       "      <td>front</td>\n",
       "      <td>front</td>\n",
       "      <td>front</td>\n",
       "      <td>front</td>\n",
       "      <td>front</td>\n",
       "      <td>front</td>\n",
       "      <td>front</td>\n",
       "      <td>front</td>\n",
       "      <td>...</td>\n",
       "      <td>front</td>\n",
       "      <td>front</td>\n",
       "      <td>front</td>\n",
       "      <td>front</td>\n",
       "      <td>front</td>\n",
       "      <td>front</td>\n",
       "      <td>front</td>\n",
       "      <td>front</td>\n",
       "      <td>front</td>\n",
       "      <td>front</td>\n",
       "    </tr>\n",
       "    <tr>\n",
       "      <th>wheelbase</th>\n",
       "      <td>88.6</td>\n",
       "      <td>88.6</td>\n",
       "      <td>94.5</td>\n",
       "      <td>99.8</td>\n",
       "      <td>99.4</td>\n",
       "      <td>99.8</td>\n",
       "      <td>105.8</td>\n",
       "      <td>105.8</td>\n",
       "      <td>105.8</td>\n",
       "      <td>99.5</td>\n",
       "      <td>...</td>\n",
       "      <td>104.3</td>\n",
       "      <td>104.3</td>\n",
       "      <td>104.3</td>\n",
       "      <td>104.3</td>\n",
       "      <td>104.3</td>\n",
       "      <td>109.1</td>\n",
       "      <td>109.1</td>\n",
       "      <td>109.1</td>\n",
       "      <td>109.1</td>\n",
       "      <td>109.1</td>\n",
       "    </tr>\n",
       "    <tr>\n",
       "      <th>carlength</th>\n",
       "      <td>168.8</td>\n",
       "      <td>168.8</td>\n",
       "      <td>171.2</td>\n",
       "      <td>176.6</td>\n",
       "      <td>176.6</td>\n",
       "      <td>177.3</td>\n",
       "      <td>192.7</td>\n",
       "      <td>192.7</td>\n",
       "      <td>192.7</td>\n",
       "      <td>178.2</td>\n",
       "      <td>...</td>\n",
       "      <td>188.8</td>\n",
       "      <td>188.8</td>\n",
       "      <td>188.8</td>\n",
       "      <td>188.8</td>\n",
       "      <td>188.8</td>\n",
       "      <td>188.8</td>\n",
       "      <td>188.8</td>\n",
       "      <td>188.8</td>\n",
       "      <td>188.8</td>\n",
       "      <td>188.8</td>\n",
       "    </tr>\n",
       "    <tr>\n",
       "      <th>carwidth</th>\n",
       "      <td>64.1</td>\n",
       "      <td>64.1</td>\n",
       "      <td>65.5</td>\n",
       "      <td>66.2</td>\n",
       "      <td>66.4</td>\n",
       "      <td>66.3</td>\n",
       "      <td>71.4</td>\n",
       "      <td>71.4</td>\n",
       "      <td>71.4</td>\n",
       "      <td>67.9</td>\n",
       "      <td>...</td>\n",
       "      <td>67.2</td>\n",
       "      <td>67.2</td>\n",
       "      <td>67.2</td>\n",
       "      <td>67.2</td>\n",
       "      <td>67.2</td>\n",
       "      <td>68.9</td>\n",
       "      <td>68.8</td>\n",
       "      <td>68.9</td>\n",
       "      <td>68.9</td>\n",
       "      <td>68.9</td>\n",
       "    </tr>\n",
       "    <tr>\n",
       "      <th>carheight</th>\n",
       "      <td>48.8</td>\n",
       "      <td>48.8</td>\n",
       "      <td>52.4</td>\n",
       "      <td>54.3</td>\n",
       "      <td>54.3</td>\n",
       "      <td>53.1</td>\n",
       "      <td>55.7</td>\n",
       "      <td>55.7</td>\n",
       "      <td>55.9</td>\n",
       "      <td>52.0</td>\n",
       "      <td>...</td>\n",
       "      <td>57.5</td>\n",
       "      <td>56.2</td>\n",
       "      <td>57.5</td>\n",
       "      <td>56.2</td>\n",
       "      <td>57.5</td>\n",
       "      <td>55.5</td>\n",
       "      <td>55.5</td>\n",
       "      <td>55.5</td>\n",
       "      <td>55.5</td>\n",
       "      <td>55.5</td>\n",
       "    </tr>\n",
       "    <tr>\n",
       "      <th>curbweight</th>\n",
       "      <td>2548</td>\n",
       "      <td>2548</td>\n",
       "      <td>2823</td>\n",
       "      <td>2337</td>\n",
       "      <td>2824</td>\n",
       "      <td>2507</td>\n",
       "      <td>2844</td>\n",
       "      <td>2954</td>\n",
       "      <td>3086</td>\n",
       "      <td>3053</td>\n",
       "      <td>...</td>\n",
       "      <td>3034</td>\n",
       "      <td>2935</td>\n",
       "      <td>3042</td>\n",
       "      <td>3045</td>\n",
       "      <td>3157</td>\n",
       "      <td>2952</td>\n",
       "      <td>3049</td>\n",
       "      <td>3012</td>\n",
       "      <td>3217</td>\n",
       "      <td>3062</td>\n",
       "    </tr>\n",
       "    <tr>\n",
       "      <th>enginetype</th>\n",
       "      <td>dohc</td>\n",
       "      <td>dohc</td>\n",
       "      <td>ohcv</td>\n",
       "      <td>ohc</td>\n",
       "      <td>ohc</td>\n",
       "      <td>ohc</td>\n",
       "      <td>ohc</td>\n",
       "      <td>ohc</td>\n",
       "      <td>ohc</td>\n",
       "      <td>ohc</td>\n",
       "      <td>...</td>\n",
       "      <td>ohc</td>\n",
       "      <td>ohc</td>\n",
       "      <td>ohc</td>\n",
       "      <td>ohc</td>\n",
       "      <td>ohc</td>\n",
       "      <td>ohc</td>\n",
       "      <td>ohc</td>\n",
       "      <td>ohcv</td>\n",
       "      <td>ohc</td>\n",
       "      <td>ohc</td>\n",
       "    </tr>\n",
       "    <tr>\n",
       "      <th>cylindernumber</th>\n",
       "      <td>four</td>\n",
       "      <td>four</td>\n",
       "      <td>six</td>\n",
       "      <td>four</td>\n",
       "      <td>five</td>\n",
       "      <td>five</td>\n",
       "      <td>five</td>\n",
       "      <td>five</td>\n",
       "      <td>five</td>\n",
       "      <td>five</td>\n",
       "      <td>...</td>\n",
       "      <td>four</td>\n",
       "      <td>four</td>\n",
       "      <td>four</td>\n",
       "      <td>four</td>\n",
       "      <td>four</td>\n",
       "      <td>four</td>\n",
       "      <td>four</td>\n",
       "      <td>six</td>\n",
       "      <td>six</td>\n",
       "      <td>four</td>\n",
       "    </tr>\n",
       "    <tr>\n",
       "      <th>enginesize</th>\n",
       "      <td>130</td>\n",
       "      <td>130</td>\n",
       "      <td>152</td>\n",
       "      <td>109</td>\n",
       "      <td>136</td>\n",
       "      <td>136</td>\n",
       "      <td>136</td>\n",
       "      <td>136</td>\n",
       "      <td>131</td>\n",
       "      <td>131</td>\n",
       "      <td>...</td>\n",
       "      <td>141</td>\n",
       "      <td>141</td>\n",
       "      <td>141</td>\n",
       "      <td>130</td>\n",
       "      <td>130</td>\n",
       "      <td>141</td>\n",
       "      <td>141</td>\n",
       "      <td>173</td>\n",
       "      <td>145</td>\n",
       "      <td>141</td>\n",
       "    </tr>\n",
       "    <tr>\n",
       "      <th>fuelsystem</th>\n",
       "      <td>mpfi</td>\n",
       "      <td>mpfi</td>\n",
       "      <td>mpfi</td>\n",
       "      <td>mpfi</td>\n",
       "      <td>mpfi</td>\n",
       "      <td>mpfi</td>\n",
       "      <td>mpfi</td>\n",
       "      <td>mpfi</td>\n",
       "      <td>mpfi</td>\n",
       "      <td>mpfi</td>\n",
       "      <td>...</td>\n",
       "      <td>mpfi</td>\n",
       "      <td>mpfi</td>\n",
       "      <td>mpfi</td>\n",
       "      <td>mpfi</td>\n",
       "      <td>mpfi</td>\n",
       "      <td>mpfi</td>\n",
       "      <td>mpfi</td>\n",
       "      <td>mpfi</td>\n",
       "      <td>idi</td>\n",
       "      <td>mpfi</td>\n",
       "    </tr>\n",
       "    <tr>\n",
       "      <th>boreratio</th>\n",
       "      <td>3.47</td>\n",
       "      <td>3.47</td>\n",
       "      <td>2.68</td>\n",
       "      <td>3.19</td>\n",
       "      <td>3.19</td>\n",
       "      <td>3.19</td>\n",
       "      <td>3.19</td>\n",
       "      <td>3.19</td>\n",
       "      <td>3.13</td>\n",
       "      <td>3.13</td>\n",
       "      <td>...</td>\n",
       "      <td>3.78</td>\n",
       "      <td>3.78</td>\n",
       "      <td>3.78</td>\n",
       "      <td>3.62</td>\n",
       "      <td>3.62</td>\n",
       "      <td>3.78</td>\n",
       "      <td>3.78</td>\n",
       "      <td>3.58</td>\n",
       "      <td>3.01</td>\n",
       "      <td>3.78</td>\n",
       "    </tr>\n",
       "    <tr>\n",
       "      <th>stroke</th>\n",
       "      <td>2.68</td>\n",
       "      <td>2.68</td>\n",
       "      <td>3.47</td>\n",
       "      <td>3.4</td>\n",
       "      <td>3.4</td>\n",
       "      <td>3.4</td>\n",
       "      <td>3.4</td>\n",
       "      <td>3.4</td>\n",
       "      <td>3.4</td>\n",
       "      <td>3.4</td>\n",
       "      <td>...</td>\n",
       "      <td>3.15</td>\n",
       "      <td>3.15</td>\n",
       "      <td>3.15</td>\n",
       "      <td>3.15</td>\n",
       "      <td>3.15</td>\n",
       "      <td>3.15</td>\n",
       "      <td>3.15</td>\n",
       "      <td>2.87</td>\n",
       "      <td>3.4</td>\n",
       "      <td>3.15</td>\n",
       "    </tr>\n",
       "    <tr>\n",
       "      <th>compressionratio</th>\n",
       "      <td>9.0</td>\n",
       "      <td>9.0</td>\n",
       "      <td>9.0</td>\n",
       "      <td>10.0</td>\n",
       "      <td>8.0</td>\n",
       "      <td>8.5</td>\n",
       "      <td>8.5</td>\n",
       "      <td>8.5</td>\n",
       "      <td>8.3</td>\n",
       "      <td>7.0</td>\n",
       "      <td>...</td>\n",
       "      <td>9.5</td>\n",
       "      <td>9.5</td>\n",
       "      <td>9.5</td>\n",
       "      <td>7.5</td>\n",
       "      <td>7.5</td>\n",
       "      <td>9.5</td>\n",
       "      <td>8.7</td>\n",
       "      <td>8.8</td>\n",
       "      <td>23.0</td>\n",
       "      <td>9.5</td>\n",
       "    </tr>\n",
       "    <tr>\n",
       "      <th>horsepower</th>\n",
       "      <td>111</td>\n",
       "      <td>111</td>\n",
       "      <td>154</td>\n",
       "      <td>102</td>\n",
       "      <td>115</td>\n",
       "      <td>110</td>\n",
       "      <td>110</td>\n",
       "      <td>110</td>\n",
       "      <td>140</td>\n",
       "      <td>160</td>\n",
       "      <td>...</td>\n",
       "      <td>114</td>\n",
       "      <td>114</td>\n",
       "      <td>114</td>\n",
       "      <td>162</td>\n",
       "      <td>162</td>\n",
       "      <td>114</td>\n",
       "      <td>160</td>\n",
       "      <td>134</td>\n",
       "      <td>106</td>\n",
       "      <td>114</td>\n",
       "    </tr>\n",
       "    <tr>\n",
       "      <th>peakrpm</th>\n",
       "      <td>5000</td>\n",
       "      <td>5000</td>\n",
       "      <td>5000</td>\n",
       "      <td>5500</td>\n",
       "      <td>5500</td>\n",
       "      <td>5500</td>\n",
       "      <td>5500</td>\n",
       "      <td>5500</td>\n",
       "      <td>5500</td>\n",
       "      <td>5500</td>\n",
       "      <td>...</td>\n",
       "      <td>5400</td>\n",
       "      <td>5400</td>\n",
       "      <td>5400</td>\n",
       "      <td>5100</td>\n",
       "      <td>5100</td>\n",
       "      <td>5400</td>\n",
       "      <td>5300</td>\n",
       "      <td>5500</td>\n",
       "      <td>4800</td>\n",
       "      <td>5400</td>\n",
       "    </tr>\n",
       "    <tr>\n",
       "      <th>citympg</th>\n",
       "      <td>21</td>\n",
       "      <td>21</td>\n",
       "      <td>19</td>\n",
       "      <td>24</td>\n",
       "      <td>18</td>\n",
       "      <td>19</td>\n",
       "      <td>19</td>\n",
       "      <td>19</td>\n",
       "      <td>17</td>\n",
       "      <td>16</td>\n",
       "      <td>...</td>\n",
       "      <td>23</td>\n",
       "      <td>24</td>\n",
       "      <td>24</td>\n",
       "      <td>17</td>\n",
       "      <td>17</td>\n",
       "      <td>23</td>\n",
       "      <td>19</td>\n",
       "      <td>18</td>\n",
       "      <td>26</td>\n",
       "      <td>19</td>\n",
       "    </tr>\n",
       "    <tr>\n",
       "      <th>highwaympg</th>\n",
       "      <td>27</td>\n",
       "      <td>27</td>\n",
       "      <td>26</td>\n",
       "      <td>30</td>\n",
       "      <td>22</td>\n",
       "      <td>25</td>\n",
       "      <td>25</td>\n",
       "      <td>25</td>\n",
       "      <td>20</td>\n",
       "      <td>22</td>\n",
       "      <td>...</td>\n",
       "      <td>28</td>\n",
       "      <td>28</td>\n",
       "      <td>28</td>\n",
       "      <td>22</td>\n",
       "      <td>22</td>\n",
       "      <td>28</td>\n",
       "      <td>25</td>\n",
       "      <td>23</td>\n",
       "      <td>27</td>\n",
       "      <td>25</td>\n",
       "    </tr>\n",
       "    <tr>\n",
       "      <th>price</th>\n",
       "      <td>13495.0</td>\n",
       "      <td>16500.0</td>\n",
       "      <td>16500.0</td>\n",
       "      <td>13950.0</td>\n",
       "      <td>17450.0</td>\n",
       "      <td>15250.0</td>\n",
       "      <td>17710.0</td>\n",
       "      <td>18920.0</td>\n",
       "      <td>23875.0</td>\n",
       "      <td>17859.167</td>\n",
       "      <td>...</td>\n",
       "      <td>13415.0</td>\n",
       "      <td>15985.0</td>\n",
       "      <td>16515.0</td>\n",
       "      <td>18420.0</td>\n",
       "      <td>18950.0</td>\n",
       "      <td>16845.0</td>\n",
       "      <td>19045.0</td>\n",
       "      <td>21485.0</td>\n",
       "      <td>22470.0</td>\n",
       "      <td>22625.0</td>\n",
       "    </tr>\n",
       "  </tbody>\n",
       "</table>\n",
       "<p>26 rows × 205 columns</p>\n",
       "</div>"
      ],
      "text/plain": [
       "                                 0                    1    \\\n",
       "car_ID                             1                    2   \n",
       "symboling                          3                    3   \n",
       "CarName           alfa-romero giulia  alfa-romero stelvio   \n",
       "fueltype                         gas                  gas   \n",
       "aspiration                       std                  std   \n",
       "doornumber                       two                  two   \n",
       "carbody                  convertible          convertible   \n",
       "drivewheel                       rwd                  rwd   \n",
       "enginelocation                 front                front   \n",
       "wheelbase                       88.6                 88.6   \n",
       "carlength                      168.8                168.8   \n",
       "carwidth                        64.1                 64.1   \n",
       "carheight                       48.8                 48.8   \n",
       "curbweight                      2548                 2548   \n",
       "enginetype                      dohc                 dohc   \n",
       "cylindernumber                  four                 four   \n",
       "enginesize                       130                  130   \n",
       "fuelsystem                      mpfi                 mpfi   \n",
       "boreratio                       3.47                 3.47   \n",
       "stroke                          2.68                 2.68   \n",
       "compressionratio                 9.0                  9.0   \n",
       "horsepower                       111                  111   \n",
       "peakrpm                         5000                 5000   \n",
       "citympg                           21                   21   \n",
       "highwaympg                        27                   27   \n",
       "price                        13495.0              16500.0   \n",
       "\n",
       "                                       2            3           4         5    \\\n",
       "car_ID                                   3            4           5         6   \n",
       "symboling                                1            2           2         2   \n",
       "CarName           alfa-romero Quadrifoglio  audi 100 ls  audi 100ls  audi fox   \n",
       "fueltype                               gas          gas         gas       gas   \n",
       "aspiration                             std          std         std       std   \n",
       "doornumber                             two         four        four       two   \n",
       "carbody                          hatchback        sedan       sedan     sedan   \n",
       "drivewheel                             rwd          fwd         4wd       fwd   \n",
       "enginelocation                       front        front       front     front   \n",
       "wheelbase                             94.5         99.8        99.4      99.8   \n",
       "carlength                            171.2        176.6       176.6     177.3   \n",
       "carwidth                              65.5         66.2        66.4      66.3   \n",
       "carheight                             52.4         54.3        54.3      53.1   \n",
       "curbweight                            2823         2337        2824      2507   \n",
       "enginetype                            ohcv          ohc         ohc       ohc   \n",
       "cylindernumber                         six         four        five      five   \n",
       "enginesize                             152          109         136       136   \n",
       "fuelsystem                            mpfi         mpfi        mpfi      mpfi   \n",
       "boreratio                             2.68         3.19        3.19      3.19   \n",
       "stroke                                3.47          3.4         3.4       3.4   \n",
       "compressionratio                       9.0         10.0         8.0       8.5   \n",
       "horsepower                             154          102         115       110   \n",
       "peakrpm                               5000         5500        5500      5500   \n",
       "citympg                                 19           24          18        19   \n",
       "highwaympg                              26           30          22        25   \n",
       "price                              16500.0      13950.0     17450.0   15250.0   \n",
       "\n",
       "                         6          7          8                    9    ...  \\\n",
       "car_ID                     7          8          9                   10  ...   \n",
       "symboling                  1          1          1                    0  ...   \n",
       "CarName           audi 100ls  audi 5000  audi 4000  audi 5000s (diesel)  ...   \n",
       "fueltype                 gas        gas        gas                  gas  ...   \n",
       "aspiration               std        std      turbo                turbo  ...   \n",
       "doornumber              four       four       four                  two  ...   \n",
       "carbody                sedan      wagon      sedan            hatchback  ...   \n",
       "drivewheel               fwd        fwd        fwd                  4wd  ...   \n",
       "enginelocation         front      front      front                front  ...   \n",
       "wheelbase              105.8      105.8      105.8                 99.5  ...   \n",
       "carlength              192.7      192.7      192.7                178.2  ...   \n",
       "carwidth                71.4       71.4       71.4                 67.9  ...   \n",
       "carheight               55.7       55.7       55.9                 52.0  ...   \n",
       "curbweight              2844       2954       3086                 3053  ...   \n",
       "enginetype               ohc        ohc        ohc                  ohc  ...   \n",
       "cylindernumber          five       five       five                 five  ...   \n",
       "enginesize               136        136        131                  131  ...   \n",
       "fuelsystem              mpfi       mpfi       mpfi                 mpfi  ...   \n",
       "boreratio               3.19       3.19       3.13                 3.13  ...   \n",
       "stroke                   3.4        3.4        3.4                  3.4  ...   \n",
       "compressionratio         8.5        8.5        8.3                  7.0  ...   \n",
       "horsepower               110        110        140                  160  ...   \n",
       "peakrpm                 5500       5500       5500                 5500  ...   \n",
       "citympg                   19         19         17                   16  ...   \n",
       "highwaympg                25         25         20                   22  ...   \n",
       "price                17710.0    18920.0    23875.0            17859.167  ...   \n",
       "\n",
       "                          195          196        197          198  \\\n",
       "car_ID                    196          197        198          199   \n",
       "symboling                  -1           -2         -1           -2   \n",
       "CarName           volvo 144ea  volvo 244dl  volvo 245  volvo 264gl   \n",
       "fueltype                  gas          gas        gas          gas   \n",
       "aspiration                std          std        std        turbo   \n",
       "doornumber               four         four       four         four   \n",
       "carbody                 wagon        sedan      wagon        sedan   \n",
       "drivewheel                rwd          rwd        rwd          rwd   \n",
       "enginelocation          front        front      front        front   \n",
       "wheelbase               104.3        104.3      104.3        104.3   \n",
       "carlength               188.8        188.8      188.8        188.8   \n",
       "carwidth                 67.2         67.2       67.2         67.2   \n",
       "carheight                57.5         56.2       57.5         56.2   \n",
       "curbweight               3034         2935       3042         3045   \n",
       "enginetype                ohc          ohc        ohc          ohc   \n",
       "cylindernumber           four         four       four         four   \n",
       "enginesize                141          141        141          130   \n",
       "fuelsystem               mpfi         mpfi       mpfi         mpfi   \n",
       "boreratio                3.78         3.78       3.78         3.62   \n",
       "stroke                   3.15         3.15       3.15         3.15   \n",
       "compressionratio          9.5          9.5        9.5          7.5   \n",
       "horsepower                114          114        114          162   \n",
       "peakrpm                  5400         5400       5400         5100   \n",
       "citympg                    23           24         24           17   \n",
       "highwaympg                 28           28         28           22   \n",
       "price                 13415.0      15985.0    16515.0      18420.0   \n",
       "\n",
       "                           199              200          201          202  \\\n",
       "car_ID                     200              201          202          203   \n",
       "symboling                   -1               -1           -1           -1   \n",
       "CarName           volvo diesel  volvo 145e (sw)  volvo 144ea  volvo 244dl   \n",
       "fueltype                   gas              gas          gas          gas   \n",
       "aspiration               turbo              std        turbo          std   \n",
       "doornumber                four             four         four         four   \n",
       "carbody                  wagon            sedan        sedan        sedan   \n",
       "drivewheel                 rwd              rwd          rwd          rwd   \n",
       "enginelocation           front            front        front        front   \n",
       "wheelbase                104.3            109.1        109.1        109.1   \n",
       "carlength                188.8            188.8        188.8        188.8   \n",
       "carwidth                  67.2             68.9         68.8         68.9   \n",
       "carheight                 57.5             55.5         55.5         55.5   \n",
       "curbweight                3157             2952         3049         3012   \n",
       "enginetype                 ohc              ohc          ohc         ohcv   \n",
       "cylindernumber            four             four         four          six   \n",
       "enginesize                 130              141          141          173   \n",
       "fuelsystem                mpfi             mpfi         mpfi         mpfi   \n",
       "boreratio                 3.62             3.78         3.78         3.58   \n",
       "stroke                    3.15             3.15         3.15         2.87   \n",
       "compressionratio           7.5              9.5          8.7          8.8   \n",
       "horsepower                 162              114          160          134   \n",
       "peakrpm                   5100             5400         5300         5500   \n",
       "citympg                     17               23           19           18   \n",
       "highwaympg                  22               28           25           23   \n",
       "price                  18950.0          16845.0      19045.0      21485.0   \n",
       "\n",
       "                        203          204  \n",
       "car_ID                  204          205  \n",
       "symboling                -1           -1  \n",
       "CarName           volvo 246  volvo 264gl  \n",
       "fueltype             diesel          gas  \n",
       "aspiration            turbo        turbo  \n",
       "doornumber             four         four  \n",
       "carbody               sedan        sedan  \n",
       "drivewheel              rwd          rwd  \n",
       "enginelocation        front        front  \n",
       "wheelbase             109.1        109.1  \n",
       "carlength             188.8        188.8  \n",
       "carwidth               68.9         68.9  \n",
       "carheight              55.5         55.5  \n",
       "curbweight             3217         3062  \n",
       "enginetype              ohc          ohc  \n",
       "cylindernumber          six         four  \n",
       "enginesize              145          141  \n",
       "fuelsystem              idi         mpfi  \n",
       "boreratio              3.01         3.78  \n",
       "stroke                  3.4         3.15  \n",
       "compressionratio       23.0          9.5  \n",
       "horsepower              106          114  \n",
       "peakrpm                4800         5400  \n",
       "citympg                  26           19  \n",
       "highwaympg               27           25  \n",
       "price               22470.0      22625.0  \n",
       "\n",
       "[26 rows x 205 columns]"
      ]
     },
     "execution_count": 3,
     "metadata": {},
     "output_type": "execute_result"
    }
   ],
   "source": [
    "dataf.T"
   ]
  },
  {
   "cell_type": "code",
   "execution_count": 4,
   "id": "c45c0915",
   "metadata": {},
   "outputs": [
    {
     "name": "stdout",
     "output_type": "stream",
     "text": [
      "<class 'pandas.core.frame.DataFrame'>\n",
      "RangeIndex: 205 entries, 0 to 204\n",
      "Data columns (total 26 columns):\n",
      " #   Column            Non-Null Count  Dtype  \n",
      "---  ------            --------------  -----  \n",
      " 0   car_ID            205 non-null    int64  \n",
      " 1   symboling         205 non-null    int64  \n",
      " 2   CarName           205 non-null    object \n",
      " 3   fueltype          205 non-null    object \n",
      " 4   aspiration        205 non-null    object \n",
      " 5   doornumber        205 non-null    object \n",
      " 6   carbody           205 non-null    object \n",
      " 7   drivewheel        205 non-null    object \n",
      " 8   enginelocation    205 non-null    object \n",
      " 9   wheelbase         205 non-null    float64\n",
      " 10  carlength         205 non-null    float64\n",
      " 11  carwidth          205 non-null    float64\n",
      " 12  carheight         205 non-null    float64\n",
      " 13  curbweight        205 non-null    int64  \n",
      " 14  enginetype        205 non-null    object \n",
      " 15  cylindernumber    205 non-null    object \n",
      " 16  enginesize        205 non-null    int64  \n",
      " 17  fuelsystem        205 non-null    object \n",
      " 18  boreratio         205 non-null    float64\n",
      " 19  stroke            205 non-null    float64\n",
      " 20  compressionratio  205 non-null    float64\n",
      " 21  horsepower        205 non-null    int64  \n",
      " 22  peakrpm           205 non-null    int64  \n",
      " 23  citympg           205 non-null    int64  \n",
      " 24  highwaympg        205 non-null    int64  \n",
      " 25  price             205 non-null    float64\n",
      "dtypes: float64(8), int64(8), object(10)\n",
      "memory usage: 41.8+ KB\n"
     ]
    }
   ],
   "source": [
    "dataf.info()"
   ]
  },
  {
   "cell_type": "markdown",
   "id": "4f165a5d",
   "metadata": {},
   "source": [
    "## 3. EDA (Exploratory Data Analysis)"
   ]
  },
  {
   "cell_type": "code",
   "execution_count": 5,
   "id": "95ea39b7",
   "metadata": {},
   "outputs": [
    {
     "data": {
      "text/plain": [
       "10"
      ]
     },
     "execution_count": 5,
     "metadata": {},
     "output_type": "execute_result"
    }
   ],
   "source": [
    "dataf.dtypes[dataf.dtypes == object].size"
   ]
  },
  {
   "cell_type": "code",
   "execution_count": 6,
   "id": "af84d9d6",
   "metadata": {},
   "outputs": [
    {
     "data": {
      "text/plain": [
       "array(['gas', 'diesel'], dtype=object)"
      ]
     },
     "execution_count": 6,
     "metadata": {},
     "output_type": "execute_result"
    }
   ],
   "source": [
    "dataf[\"fueltype\"].unique()"
   ]
  },
  {
   "cell_type": "code",
   "execution_count": 7,
   "id": "98a47048",
   "metadata": {},
   "outputs": [
    {
     "data": {
      "text/plain": [
       "array(['std', 'turbo'], dtype=object)"
      ]
     },
     "execution_count": 7,
     "metadata": {},
     "output_type": "execute_result"
    }
   ],
   "source": [
    "dataf[\"aspiration\"].unique()"
   ]
  },
  {
   "cell_type": "code",
   "execution_count": 8,
   "id": "d7dee078",
   "metadata": {},
   "outputs": [
    {
     "data": {
      "text/plain": [
       "array(['two', 'four'], dtype=object)"
      ]
     },
     "execution_count": 8,
     "metadata": {},
     "output_type": "execute_result"
    }
   ],
   "source": [
    "dataf[\"doornumber\"].unique()"
   ]
  },
  {
   "cell_type": "code",
   "execution_count": 9,
   "id": "2d58a2bc",
   "metadata": {},
   "outputs": [
    {
     "data": {
      "text/plain": [
       "array(['convertible', 'hatchback', 'sedan', 'wagon', 'hardtop'],\n",
       "      dtype=object)"
      ]
     },
     "execution_count": 9,
     "metadata": {},
     "output_type": "execute_result"
    }
   ],
   "source": [
    "dataf[\"carbody\"].unique()"
   ]
  },
  {
   "cell_type": "code",
   "execution_count": 10,
   "id": "933b51bc",
   "metadata": {},
   "outputs": [
    {
     "data": {
      "text/plain": [
       "array(['rwd', 'fwd', '4wd'], dtype=object)"
      ]
     },
     "execution_count": 10,
     "metadata": {},
     "output_type": "execute_result"
    }
   ],
   "source": [
    "dataf[\"drivewheel\"].unique()"
   ]
  },
  {
   "cell_type": "code",
   "execution_count": 11,
   "id": "44918b37",
   "metadata": {},
   "outputs": [
    {
     "data": {
      "text/plain": [
       "array(['dohc', 'ohcv', 'ohc', 'l', 'rotor', 'ohcf', 'dohcv'], dtype=object)"
      ]
     },
     "execution_count": 11,
     "metadata": {},
     "output_type": "execute_result"
    }
   ],
   "source": [
    "dataf[\"enginetype\"].unique()"
   ]
  },
  {
   "cell_type": "code",
   "execution_count": 12,
   "id": "4736ebca",
   "metadata": {},
   "outputs": [
    {
     "data": {
      "text/plain": [
       "array(['four', 'six', 'five', 'three', 'twelve', 'two', 'eight'],\n",
       "      dtype=object)"
      ]
     },
     "execution_count": 12,
     "metadata": {},
     "output_type": "execute_result"
    }
   ],
   "source": [
    "dataf[\"cylindernumber\"].unique()"
   ]
  },
  {
   "cell_type": "code",
   "execution_count": 13,
   "id": "7c02acd0",
   "metadata": {},
   "outputs": [
    {
     "data": {
      "text/plain": [
       "array(['mpfi', '2bbl', 'mfi', '1bbl', 'spfi', '4bbl', 'idi', 'spdi'],\n",
       "      dtype=object)"
      ]
     },
     "execution_count": 13,
     "metadata": {},
     "output_type": "execute_result"
    }
   ],
   "source": [
    "dataf[\"fuelsystem\"].unique()"
   ]
  },
  {
   "cell_type": "code",
   "execution_count": 14,
   "id": "4a41407d",
   "metadata": {},
   "outputs": [
    {
     "data": {
      "text/plain": [
       "CarName           object\n",
       "fueltype          object\n",
       "aspiration        object\n",
       "doornumber        object\n",
       "carbody           object\n",
       "drivewheel        object\n",
       "enginelocation    object\n",
       "enginetype        object\n",
       "cylindernumber    object\n",
       "fuelsystem        object\n",
       "dtype: object"
      ]
     },
     "execution_count": 14,
     "metadata": {},
     "output_type": "execute_result"
    }
   ],
   "source": [
    "dataf.dtypes[dataf.dtypes == object]"
   ]
  },
  {
   "cell_type": "code",
   "execution_count": 15,
   "id": "64684b18",
   "metadata": {},
   "outputs": [
    {
     "data": {
      "text/plain": [
       "Index(['CarName', 'fueltype', 'aspiration', 'doornumber', 'carbody',\n",
       "       'drivewheel', 'enginelocation', 'enginetype', 'cylindernumber',\n",
       "       'fuelsystem'],\n",
       "      dtype='object')"
      ]
     },
     "execution_count": 15,
     "metadata": {},
     "output_type": "execute_result"
    }
   ],
   "source": [
    "cols = dataf.dtypes[dataf.dtypes == object]\n",
    "col = pd.DataFrame(cols)\n",
    "col.T.columns"
   ]
  },
  {
   "cell_type": "code",
   "execution_count": 16,
   "id": "22e5d1d7",
   "metadata": {},
   "outputs": [],
   "source": [
    "dataf.drop(col.T.columns, axis=1, inplace=True)"
   ]
  },
  {
   "cell_type": "code",
   "execution_count": 17,
   "id": "ad991fc2",
   "metadata": {},
   "outputs": [
    {
     "name": "stdout",
     "output_type": "stream",
     "text": [
      "<class 'pandas.core.frame.DataFrame'>\n",
      "RangeIndex: 205 entries, 0 to 204\n",
      "Data columns (total 16 columns):\n",
      " #   Column            Non-Null Count  Dtype  \n",
      "---  ------            --------------  -----  \n",
      " 0   car_ID            205 non-null    int64  \n",
      " 1   symboling         205 non-null    int64  \n",
      " 2   wheelbase         205 non-null    float64\n",
      " 3   carlength         205 non-null    float64\n",
      " 4   carwidth          205 non-null    float64\n",
      " 5   carheight         205 non-null    float64\n",
      " 6   curbweight        205 non-null    int64  \n",
      " 7   enginesize        205 non-null    int64  \n",
      " 8   boreratio         205 non-null    float64\n",
      " 9   stroke            205 non-null    float64\n",
      " 10  compressionratio  205 non-null    float64\n",
      " 11  horsepower        205 non-null    int64  \n",
      " 12  peakrpm           205 non-null    int64  \n",
      " 13  citympg           205 non-null    int64  \n",
      " 14  highwaympg        205 non-null    int64  \n",
      " 15  price             205 non-null    float64\n",
      "dtypes: float64(8), int64(8)\n",
      "memory usage: 25.8 KB\n"
     ]
    }
   ],
   "source": [
    "dataf.info()"
   ]
  },
  {
   "cell_type": "code",
   "execution_count": 18,
   "id": "1a47fa4d",
   "metadata": {},
   "outputs": [
    {
     "data": {
      "text/plain": [
       "wheelbase           float64\n",
       "carlength           float64\n",
       "carwidth            float64\n",
       "carheight           float64\n",
       "boreratio           float64\n",
       "stroke              float64\n",
       "compressionratio    float64\n",
       "price               float64\n",
       "dtype: object"
      ]
     },
     "execution_count": 18,
     "metadata": {},
     "output_type": "execute_result"
    }
   ],
   "source": [
    "dataf.dtypes[dataf.dtypes == float]"
   ]
  },
  {
   "cell_type": "code",
   "execution_count": 19,
   "id": "626748ce",
   "metadata": {},
   "outputs": [],
   "source": [
    "dataf.drop(\"car_ID\", axis=1, inplace=True)"
   ]
  },
  {
   "cell_type": "code",
   "execution_count": 20,
   "id": "13419f04",
   "metadata": {},
   "outputs": [
    {
     "name": "stdout",
     "output_type": "stream",
     "text": [
      "<class 'pandas.core.frame.DataFrame'>\n",
      "RangeIndex: 205 entries, 0 to 204\n",
      "Data columns (total 15 columns):\n",
      " #   Column            Non-Null Count  Dtype  \n",
      "---  ------            --------------  -----  \n",
      " 0   symboling         205 non-null    int64  \n",
      " 1   wheelbase         205 non-null    float64\n",
      " 2   carlength         205 non-null    float64\n",
      " 3   carwidth          205 non-null    float64\n",
      " 4   carheight         205 non-null    float64\n",
      " 5   curbweight        205 non-null    int64  \n",
      " 6   enginesize        205 non-null    int64  \n",
      " 7   boreratio         205 non-null    float64\n",
      " 8   stroke            205 non-null    float64\n",
      " 9   compressionratio  205 non-null    float64\n",
      " 10  horsepower        205 non-null    int64  \n",
      " 11  peakrpm           205 non-null    int64  \n",
      " 12  citympg           205 non-null    int64  \n",
      " 13  highwaympg        205 non-null    int64  \n",
      " 14  price             205 non-null    float64\n",
      "dtypes: float64(8), int64(7)\n",
      "memory usage: 24.1 KB\n"
     ]
    }
   ],
   "source": [
    "dataf.info()"
   ]
  },
  {
   "cell_type": "code",
   "execution_count": 21,
   "id": "7b6cc92a",
   "metadata": {},
   "outputs": [],
   "source": [
    "dataf.drop(\"symboling\", axis=1, inplace=True)"
   ]
  },
  {
   "cell_type": "markdown",
   "id": "64413b52",
   "metadata": {},
   "source": [
    "### 1. Check for linearity\n",
    "##### Cofficienent of corelations"
   ]
  },
  {
   "cell_type": "code",
   "execution_count": 22,
   "id": "e41a8cb8",
   "metadata": {},
   "outputs": [
    {
     "data": {
      "text/html": [
       "<div>\n",
       "<style scoped>\n",
       "    .dataframe tbody tr th:only-of-type {\n",
       "        vertical-align: middle;\n",
       "    }\n",
       "\n",
       "    .dataframe tbody tr th {\n",
       "        vertical-align: top;\n",
       "    }\n",
       "\n",
       "    .dataframe thead th {\n",
       "        text-align: right;\n",
       "    }\n",
       "</style>\n",
       "<table border=\"1\" class=\"dataframe\">\n",
       "  <thead>\n",
       "    <tr style=\"text-align: right;\">\n",
       "      <th></th>\n",
       "      <th>wheelbase</th>\n",
       "      <th>carlength</th>\n",
       "      <th>carwidth</th>\n",
       "      <th>carheight</th>\n",
       "      <th>curbweight</th>\n",
       "      <th>enginesize</th>\n",
       "      <th>boreratio</th>\n",
       "      <th>stroke</th>\n",
       "      <th>compressionratio</th>\n",
       "      <th>horsepower</th>\n",
       "      <th>peakrpm</th>\n",
       "      <th>citympg</th>\n",
       "      <th>highwaympg</th>\n",
       "      <th>price</th>\n",
       "    </tr>\n",
       "  </thead>\n",
       "  <tbody>\n",
       "    <tr>\n",
       "      <th>price</th>\n",
       "      <td>0.577816</td>\n",
       "      <td>0.68292</td>\n",
       "      <td>0.759325</td>\n",
       "      <td>0.119336</td>\n",
       "      <td>0.835305</td>\n",
       "      <td>0.874145</td>\n",
       "      <td>0.553173</td>\n",
       "      <td>0.079443</td>\n",
       "      <td>0.067984</td>\n",
       "      <td>0.808139</td>\n",
       "      <td>-0.085267</td>\n",
       "      <td>-0.685751</td>\n",
       "      <td>-0.697599</td>\n",
       "      <td>1.0</td>\n",
       "    </tr>\n",
       "  </tbody>\n",
       "</table>\n",
       "</div>"
      ],
      "text/plain": [
       "       wheelbase  carlength  carwidth  carheight  curbweight  enginesize  \\\n",
       "price   0.577816    0.68292  0.759325   0.119336    0.835305    0.874145   \n",
       "\n",
       "       boreratio    stroke  compressionratio  horsepower   peakrpm   citympg  \\\n",
       "price   0.553173  0.079443          0.067984    0.808139 -0.085267 -0.685751   \n",
       "\n",
       "       highwaympg  price  \n",
       "price   -0.697599    1.0  "
      ]
     },
     "execution_count": 22,
     "metadata": {},
     "output_type": "execute_result"
    }
   ],
   "source": [
    "dataf.corr().tail(1)"
   ]
  },
  {
   "cell_type": "code",
   "execution_count": 23,
   "id": "abb10b55",
   "metadata": {},
   "outputs": [
    {
     "data": {
      "text/plain": [
       "<AxesSubplot:>"
      ]
     },
     "execution_count": 23,
     "metadata": {},
     "output_type": "execute_result"
    },
    {
     "data": {
      "image/png": "[encoded data removed]",
      "text/plain": [
       "<Figure size 1080x72 with 2 Axes>"
      ]
     },
     "metadata": {
      "needs_background": "light"
     },
     "output_type": "display_data"
    }
   ],
   "source": [
    "plt.figure(figsize=(15,1))\n",
    "sns.heatmap(dataf.corr().tail(1), annot=True)"
   ]
  },
  {
   "cell_type": "code",
   "execution_count": null,
   "id": "9ed62e7e",
   "metadata": {},
   "outputs": [],
   "source": []
  },
  {
   "cell_type": "code",
   "execution_count": 24,
   "id": "74717290",
   "metadata": {},
   "outputs": [
    {
     "data": {
      "text/plain": [
       "<seaborn.axisgrid.PairGrid at 0x1e4d255c2b0>"
      ]
     },
     "execution_count": 24,
     "metadata": {},
     "output_type": "execute_result"
    },
    {
     "data": {
      "text/plain": [
       "<Figure size 720x360 with 0 Axes>"
      ]
     },
     "metadata": {},
     "output_type": "display_data"
    },
    {
     "data": {
      "image/png": "[encoded data removed]",
      "text/plain": [
       "<Figure size 2340x180 with 13 Axes>"
      ]
     },
     "metadata": {
      "needs_background": "light"
     },
     "output_type": "display_data"
    }
   ],
   "source": [
    "plt.figure(figsize=(10,5))\n",
    "sns.pairplot(dataf,x_vars=dataf.columns[0:-1], y_vars=dataf.columns[-1] ,kind=\"scatter\")"
   ]
  },
  {
   "cell_type": "code",
   "execution_count": null,
   "id": "dc4fe3e3",
   "metadata": {},
   "outputs": [],
   "source": []
  },
  {
   "cell_type": "markdown",
   "id": "abd85c49",
   "metadata": {},
   "source": [
    "### Check For MultiColinearity"
   ]
  },
  {
   "cell_type": "code",
   "execution_count": 25,
   "id": "544209ca",
   "metadata": {},
   "outputs": [
    {
     "name": "stdout",
     "output_type": "stream",
     "text": [
      "<class 'pandas.core.frame.DataFrame'>\n",
      "RangeIndex: 205 entries, 0 to 204\n",
      "Data columns (total 14 columns):\n",
      " #   Column            Non-Null Count  Dtype  \n",
      "---  ------            --------------  -----  \n",
      " 0   wheelbase         205 non-null    float64\n",
      " 1   carlength         205 non-null    float64\n",
      " 2   carwidth          205 non-null    float64\n",
      " 3   carheight         205 non-null    float64\n",
      " 4   curbweight        205 non-null    int64  \n",
      " 5   enginesize        205 non-null    int64  \n",
      " 6   boreratio         205 non-null    float64\n",
      " 7   stroke            205 non-null    float64\n",
      " 8   compressionratio  205 non-null    float64\n",
      " 9   horsepower        205 non-null    int64  \n",
      " 10  peakrpm           205 non-null    int64  \n",
      " 11  citympg           205 non-null    int64  \n",
      " 12  highwaympg        205 non-null    int64  \n",
      " 13  price             205 non-null    float64\n",
      "dtypes: float64(8), int64(6)\n",
      "memory usage: 22.5 KB\n"
     ]
    }
   ],
   "source": [
    "dataf.info()"
   ]
  },
  {
   "cell_type": "code",
   "execution_count": 26,
   "id": "46ab78a5",
   "metadata": {},
   "outputs": [
    {
     "data": {
      "text/plain": [
       "(205, 14)"
      ]
     },
     "execution_count": 26,
     "metadata": {},
     "output_type": "execute_result"
    }
   ],
   "source": [
    "dataf.shape"
   ]
  },
  {
   "cell_type": "code",
   "execution_count": 27,
   "id": "642400e6",
   "metadata": {},
   "outputs": [
    {
     "name": "stdout",
     "output_type": "stream",
     "text": [
      "[1938.4922981503123, 1919.944366648425, 2352.7667135297074, 917.2057364271027, 408.2043587176712, 92.98483215681523, 295.52746646247834, 139.0042323659415, 17.215597443828944, 66.92104018094702, 225.66034935798166, 438.3782724168469, 511.00031334925933]\n"
     ]
    }
   ],
   "source": [
    "from statsmodels.stats.outliers_influence import variance_inflation_factor\n",
    "vif = []\n",
    "\n",
    "for i in range(dataf.shape[1]-1):\n",
    "    vf = variance_inflation_factor(dataf.to_numpy(), i)\n",
    "    vif.append(vf)\n",
    "    \n",
    "print(vif)"
   ]
  },
  {
   "cell_type": "code",
   "execution_count": 28,
   "id": "856497aa",
   "metadata": {},
   "outputs": [
    {
     "name": "stdout",
     "output_type": "stream",
     "text": [
      "wheelbase 1938.4922981503123\n",
      "carlength 1919.944366648425\n",
      "carwidth 2352.7667135297074\n",
      "carheight 917.2057364271027\n",
      "curbweight 408.2043587176712\n",
      "enginesize 92.98483215681523\n",
      "boreratio 295.52746646247834\n",
      "stroke 139.0042323659415\n",
      "compressionratio 17.215597443828944\n",
      "horsepower 66.92104018094702\n",
      "peakrpm 225.66034935798166\n",
      "citympg 438.3782724168469\n",
      "highwaympg 511.00031334925933\n"
     ]
    }
   ],
   "source": [
    "for i in range(dataf.shape[-1]-1):\n",
    "    print(dataf.columns[i], vif[i])"
   ]
  },
  {
   "cell_type": "code",
   "execution_count": 29,
   "id": "c1c656fd",
   "metadata": {},
   "outputs": [
    {
     "data": {
      "text/plain": [
       "<AxesSubplot:title={'center':'Variance inflation Factor'}>"
      ]
     },
     "execution_count": 29,
     "metadata": {},
     "output_type": "execute_result"
    },
    {
     "data": {
      "image/png": "[encoded data removed]",
      "text/plain": [
       "<Figure size 720x360 with 1 Axes>"
      ]
     },
     "metadata": {},
     "output_type": "display_data"
    }
   ],
   "source": [
    "mulitcol = pd.Series(vif, dataf.columns[:-1])\n",
    "plt.figure(figsize=(10,5), facecolor=\"gray\")\n",
    "sns.set_context(context=\"paper\", font_scale=1.3)\n",
    "plt.title(\"Variance inflation Factor\")\n",
    "mulitcol.sort_values().plot(kind=\"bar\")"
   ]
  },
  {
   "cell_type": "markdown",
   "id": "167627d5",
   "metadata": {},
   "source": [
    "## 4. Feature Engineering"
   ]
  },
  {
   "cell_type": "markdown",
   "id": "9ef71561",
   "metadata": {},
   "source": [
    "## 5. Feature Selection"
   ]
  },
  {
   "cell_type": "markdown",
   "id": "3ea48e8c",
   "metadata": {},
   "source": [
    "## 6. Model Training"
   ]
  },
  {
   "cell_type": "code",
   "execution_count": 30,
   "id": "9ce93b8c",
   "metadata": {},
   "outputs": [],
   "source": [
    "X = dataf.drop(\"price\", axis=1)\n",
    "y = dataf[\"price\"]"
   ]
  },
  {
   "cell_type": "code",
   "execution_count": 31,
   "id": "b74c3d14",
   "metadata": {},
   "outputs": [],
   "source": [
    "X_train, x_test, y_train, y_test = train_test_split(X,y,test_size=0.2, random_state=1)"
   ]
  },
  {
   "cell_type": "markdown",
   "id": "94368215",
   "metadata": {},
   "source": [
    "### Ridge Regression"
   ]
  },
  {
   "cell_type": "code",
   "execution_count": 32,
   "id": "b7873fca",
   "metadata": {},
   "outputs": [
    {
     "data": {
      "text/plain": [
       "GridSearchCV(cv=5, estimator=Ridge(),\n",
       "             param_grid={'alpha': array([0.01, 0.02, 0.03, 0.04, 0.05, 0.06, 0.07, 0.08, 0.09, 0.1 , 0.11,\n",
       "       0.12, 0.13, 0.14, 0.15, 0.16, 0.17, 0.18, 0.19, 0.2 , 0.21, 0.22,\n",
       "       0.23, 0.24, 0.25, 0.26, 0.27, 0.28, 0.29, 0.3 , 0.31, 0.32, 0.33,\n",
       "       0.34, 0.35, 0.36, 0.37, 0.38, 0.39, 0.4 , 0.41, 0.42, 0.43, 0.44,\n",
       "       0.45, 0.46, 0.47, 0.48, 0.49, 0.5 , 0.51, 0.52, 0.53, 0.54, 0.55,\n",
       "       0.56, 0.57, 0.58, 0....\n",
       "       9.25, 9.26, 9.27, 9.28, 9.29, 9.3 , 9.31, 9.32, 9.33, 9.34, 9.35,\n",
       "       9.36, 9.37, 9.38, 9.39, 9.4 , 9.41, 9.42, 9.43, 9.44, 9.45, 9.46,\n",
       "       9.47, 9.48, 9.49, 9.5 , 9.51, 9.52, 9.53, 9.54, 9.55, 9.56, 9.57,\n",
       "       9.58, 9.59, 9.6 , 9.61, 9.62, 9.63, 9.64, 9.65, 9.66, 9.67, 9.68,\n",
       "       9.69, 9.7 , 9.71, 9.72, 9.73, 9.74, 9.75, 9.76, 9.77, 9.78, 9.79,\n",
       "       9.8 , 9.81, 9.82, 9.83, 9.84, 9.85, 9.86, 9.87, 9.88, 9.89, 9.9 ,\n",
       "       9.91, 9.92, 9.93, 9.94, 9.95, 9.96, 9.97, 9.98, 9.99])})"
      ]
     },
     "execution_count": 32,
     "metadata": {},
     "output_type": "execute_result"
    }
   ],
   "source": [
    "model_rd = Ridge()\n",
    "\n",
    "hyperparameter = {\"alpha\": np.arange(0.01, 10, 0.01)}\n",
    "\n",
    "Gscv = GridSearchCV(model_rd, hyperparameter, cv=5)\n",
    "Gscv.fit(X_train, y_train)"
   ]
  },
  {
   "cell_type": "code",
   "execution_count": 33,
   "id": "778eab97",
   "metadata": {},
   "outputs": [
    {
     "data": {
      "text/plain": [
       "Ridge(alpha=2.5799999999999996)"
      ]
     },
     "execution_count": 33,
     "metadata": {},
     "output_type": "execute_result"
    }
   ],
   "source": [
    "Gscv.best_estimator_"
   ]
  },
  {
   "cell_type": "code",
   "execution_count": 34,
   "id": "33559f68",
   "metadata": {},
   "outputs": [
    {
     "data": {
      "text/plain": [
       "{'alpha': 2.5799999999999996}"
      ]
     },
     "execution_count": 34,
     "metadata": {},
     "output_type": "execute_result"
    }
   ],
   "source": [
    "Gscv.best_params_"
   ]
  },
  {
   "cell_type": "code",
   "execution_count": 35,
   "id": "4d63414f",
   "metadata": {},
   "outputs": [
    {
     "data": {
      "text/plain": [
       "Ridge(alpha=2.579)"
      ]
     },
     "execution_count": 35,
     "metadata": {},
     "output_type": "execute_result"
    }
   ],
   "source": [
    "Model_rd = Ridge(alpha=2.579)\n",
    "Model_rd.fit(X_train, y_train)"
   ]
  },
  {
   "cell_type": "code",
   "execution_count": 36,
   "id": "21172041",
   "metadata": {},
   "outputs": [],
   "source": [
    "y_pred_te = Model_rd.predict(x_test)\n",
    "y_pred_tr = Model_rd.predict(X_train)"
   ]
  },
  {
   "cell_type": "code",
   "execution_count": 37,
   "id": "56d0e308",
   "metadata": {},
   "outputs": [
    {
     "data": {
      "text/plain": [
       "array([7602.7003634 , 5568.96801175, 6672.5004128 , 5454.71200522,\n",
       "       7592.1330887 ])"
      ]
     },
     "execution_count": 37,
     "metadata": {},
     "output_type": "execute_result"
    }
   ],
   "source": [
    "y_pred_te[:5]"
   ]
  },
  {
   "cell_type": "code",
   "execution_count": 38,
   "id": "bc09dbbb",
   "metadata": {},
   "outputs": [
    {
     "data": {
      "text/plain": [
       "78      6669.0\n",
       "97      7999.0\n",
       "151     6338.0\n",
       "44      8916.5\n",
       "40     10295.0\n",
       "Name: price, dtype: float64"
      ]
     },
     "execution_count": 38,
     "metadata": {},
     "output_type": "execute_result"
    }
   ],
   "source": [
    "y_test[:5]"
   ]
  },
  {
   "cell_type": "code",
   "execution_count": 39,
   "id": "3c24cb6e",
   "metadata": {},
   "outputs": [
    {
     "data": {
      "text/plain": [
       "array([22377.09441293,  6983.64443062, 11033.12173206, 10236.81544879,\n",
       "        6201.18496318])"
      ]
     },
     "execution_count": 39,
     "metadata": {},
     "output_type": "execute_result"
    }
   ],
   "source": [
    "y_pred_tr[:5]"
   ]
  },
  {
   "cell_type": "code",
   "execution_count": 40,
   "id": "3463cccb",
   "metadata": {},
   "outputs": [
    {
     "data": {
      "text/plain": [
       "106    18399.0\n",
       "90      7099.0\n",
       "147    10198.0\n",
       "185     8195.0\n",
       "95      7799.0\n",
       "Name: price, dtype: float64"
      ]
     },
     "execution_count": 40,
     "metadata": {},
     "output_type": "execute_result"
    }
   ],
   "source": [
    "y_train[:5]"
   ]
  },
  {
   "cell_type": "markdown",
   "id": "d32f0f80",
   "metadata": {},
   "source": [
    "### Check Homoscedasticity"
   ]
  },
  {
   "cell_type": "code",
   "execution_count": null,
   "id": "25ba1629",
   "metadata": {},
   "outputs": [],
   "source": []
  },
  {
   "cell_type": "code",
   "execution_count": 41,
   "id": "b6faa65f",
   "metadata": {},
   "outputs": [
    {
     "data": {
      "text/plain": [
       "Text(0.5, 1.0, 'Homoscedastisity')"
      ]
     },
     "execution_count": 41,
     "metadata": {},
     "output_type": "execute_result"
    },
    {
     "data": {
      "image/png": "[encoded data removed]",
      "text/plain": [
       "<Figure size 432x288 with 1 Axes>"
      ]
     },
     "metadata": {},
     "output_type": "display_data"
    }
   ],
   "source": [
    "## For test\n",
    "resi = y_test - y_pred_te\n",
    "\n",
    "plt.figure(facecolor=\"gray\")\n",
    "plt.scatter(y_pred_te, resi)\n",
    "plt.title(\"Homoscedastisity\")"
   ]
  },
  {
   "cell_type": "code",
   "execution_count": 42,
   "id": "b4e1dfd5",
   "metadata": {},
   "outputs": [
    {
     "data": {
      "text/plain": [
       "2.223306068877779"
      ]
     },
     "execution_count": 42,
     "metadata": {},
     "output_type": "execute_result"
    }
   ],
   "source": [
    "from statsmodels.stats.stattools import durbin_watson\n",
    "durbin_watson(resi)"
   ]
  },
  {
   "cell_type": "code",
   "execution_count": 43,
   "id": "2693b027",
   "metadata": {},
   "outputs": [
    {
     "data": {
      "text/plain": [
       "Text(0.5, 1.0, 'Homoscedastisity')"
      ]
     },
     "execution_count": 43,
     "metadata": {},
     "output_type": "execute_result"
    },
    {
     "data": {
      "image/png": "[encoded data removed]",
      "text/plain": [
       "<Figure size 432x288 with 1 Axes>"
      ]
     },
     "metadata": {},
     "output_type": "display_data"
    }
   ],
   "source": [
    "## For train\n",
    "resi_tr = y_train - y_pred_tr\n",
    "\n",
    "plt.figure(facecolor=\"gray\")\n",
    "plt.scatter(y_pred_tr, resi_tr)\n",
    "plt.title(\"Homoscedastisity\")"
   ]
  },
  {
   "cell_type": "code",
   "execution_count": 44,
   "id": "816742ec",
   "metadata": {},
   "outputs": [
    {
     "data": {
      "text/plain": [
       "2.115371503903327"
      ]
     },
     "execution_count": 44,
     "metadata": {},
     "output_type": "execute_result"
    }
   ],
   "source": [
    "durbin_watson(resi_tr)"
   ]
  },
  {
   "cell_type": "code",
   "execution_count": 45,
   "id": "bdb0b4fb",
   "metadata": {},
   "outputs": [
    {
     "name": "stdout",
     "output_type": "stream",
     "text": [
      "Mean Squared Error :- 11876888.579087134\n",
      "Mean Absolut Error :- 2339.2161282480897\n",
      "Root Mean Squared Error :- 3446.286200983188\n",
      "R2_score :- 0.7838621547914341\n"
     ]
    }
   ],
   "source": [
    "## for test\n",
    "MSE = mean_squared_error(y_test, y_pred_te)\n",
    "print(f\"Mean Squared Error :- {MSE}\")\n",
    "\n",
    "MAE = mean_absolute_error(y_test, y_pred_te)\n",
    "print(f\"Mean Absolut Error :- {MAE}\")\n",
    "\n",
    "RMSE = np.sqrt(MSE)\n",
    "print(f\"Root Mean Squared Error :- {RMSE}\")\n",
    "\n",
    "R2_score = r2_score(y_test, y_pred_te)\n",
    "print(f\"R2_score :- {R2_score}\")"
   ]
  },
  {
   "cell_type": "code",
   "execution_count": null,
   "id": "883d0b65",
   "metadata": {},
   "outputs": [],
   "source": []
  },
  {
   "cell_type": "code",
   "execution_count": 46,
   "id": "d3243af1",
   "metadata": {},
   "outputs": [
    {
     "name": "stdout",
     "output_type": "stream",
     "text": [
      "Mean Squared Error :- 9212827.13308211\n",
      "Mean Absolut Error :- 2259.897386827972\n",
      "Root Mean Squared Error :- 3035.263931371061\n",
      "R2_score :- 0.8588109214036047\n"
     ]
    }
   ],
   "source": [
    "## for train\n",
    "MSE = mean_squared_error(y_train, y_pred_tr)\n",
    "print(f\"Mean Squared Error :- {MSE}\")\n",
    "\n",
    "MAE = mean_absolute_error(y_train, y_pred_tr)\n",
    "print(f\"Mean Absolut Error :- {MAE}\")\n",
    "\n",
    "RMSE = np.sqrt(MSE)\n",
    "print(f\"Root Mean Squared Error :- {RMSE}\")\n",
    "\n",
    "R2_score = r2_score(y_train, y_pred_tr)\n",
    "print(f\"R2_score :- {R2_score}\")"
   ]
  },
  {
   "cell_type": "code",
   "execution_count": 47,
   "id": "6b0ec0c3",
   "metadata": {},
   "outputs": [
    {
     "data": {
      "text/plain": [
       "0.8588109214036047"
      ]
     },
     "execution_count": 47,
     "metadata": {},
     "output_type": "execute_result"
    }
   ],
   "source": [
    "Model_rd.score(X_train, y_train)"
   ]
  },
  {
   "cell_type": "code",
   "execution_count": 48,
   "id": "b7f2befd",
   "metadata": {},
   "outputs": [
    {
     "data": {
      "text/plain": [
       "0.7838621547914341"
      ]
     },
     "execution_count": 48,
     "metadata": {},
     "output_type": "execute_result"
    }
   ],
   "source": [
    "Model_rd.score(x_test, y_test)"
   ]
  },
  {
   "cell_type": "code",
   "execution_count": 49,
   "id": "3935dbad",
   "metadata": {},
   "outputs": [
    {
     "data": {
      "text/html": [
       "<div>\n",
       "<style scoped>\n",
       "    .dataframe tbody tr th:only-of-type {\n",
       "        vertical-align: middle;\n",
       "    }\n",
       "\n",
       "    .dataframe tbody tr th {\n",
       "        vertical-align: top;\n",
       "    }\n",
       "\n",
       "    .dataframe thead th {\n",
       "        text-align: right;\n",
       "    }\n",
       "</style>\n",
       "<table border=\"1\" class=\"dataframe\">\n",
       "  <thead>\n",
       "    <tr style=\"text-align: right;\">\n",
       "      <th></th>\n",
       "      <th>wheelbase</th>\n",
       "      <th>carlength</th>\n",
       "      <th>carwidth</th>\n",
       "      <th>carheight</th>\n",
       "      <th>curbweight</th>\n",
       "      <th>enginesize</th>\n",
       "      <th>boreratio</th>\n",
       "      <th>stroke</th>\n",
       "      <th>compressionratio</th>\n",
       "      <th>horsepower</th>\n",
       "      <th>peakrpm</th>\n",
       "      <th>citympg</th>\n",
       "      <th>highwaympg</th>\n",
       "      <th>price</th>\n",
       "    </tr>\n",
       "  </thead>\n",
       "  <tbody>\n",
       "    <tr>\n",
       "      <th>0</th>\n",
       "      <td>88.6</td>\n",
       "      <td>168.8</td>\n",
       "      <td>64.1</td>\n",
       "      <td>48.8</td>\n",
       "      <td>2548</td>\n",
       "      <td>130</td>\n",
       "      <td>3.47</td>\n",
       "      <td>2.68</td>\n",
       "      <td>9.0</td>\n",
       "      <td>111</td>\n",
       "      <td>5000</td>\n",
       "      <td>21</td>\n",
       "      <td>27</td>\n",
       "      <td>13495.0</td>\n",
       "    </tr>\n",
       "    <tr>\n",
       "      <th>1</th>\n",
       "      <td>88.6</td>\n",
       "      <td>168.8</td>\n",
       "      <td>64.1</td>\n",
       "      <td>48.8</td>\n",
       "      <td>2548</td>\n",
       "      <td>130</td>\n",
       "      <td>3.47</td>\n",
       "      <td>2.68</td>\n",
       "      <td>9.0</td>\n",
       "      <td>111</td>\n",
       "      <td>5000</td>\n",
       "      <td>21</td>\n",
       "      <td>27</td>\n",
       "      <td>16500.0</td>\n",
       "    </tr>\n",
       "    <tr>\n",
       "      <th>2</th>\n",
       "      <td>94.5</td>\n",
       "      <td>171.2</td>\n",
       "      <td>65.5</td>\n",
       "      <td>52.4</td>\n",
       "      <td>2823</td>\n",
       "      <td>152</td>\n",
       "      <td>2.68</td>\n",
       "      <td>3.47</td>\n",
       "      <td>9.0</td>\n",
       "      <td>154</td>\n",
       "      <td>5000</td>\n",
       "      <td>19</td>\n",
       "      <td>26</td>\n",
       "      <td>16500.0</td>\n",
       "    </tr>\n",
       "    <tr>\n",
       "      <th>3</th>\n",
       "      <td>99.8</td>\n",
       "      <td>176.6</td>\n",
       "      <td>66.2</td>\n",
       "      <td>54.3</td>\n",
       "      <td>2337</td>\n",
       "      <td>109</td>\n",
       "      <td>3.19</td>\n",
       "      <td>3.40</td>\n",
       "      <td>10.0</td>\n",
       "      <td>102</td>\n",
       "      <td>5500</td>\n",
       "      <td>24</td>\n",
       "      <td>30</td>\n",
       "      <td>13950.0</td>\n",
       "    </tr>\n",
       "    <tr>\n",
       "      <th>4</th>\n",
       "      <td>99.4</td>\n",
       "      <td>176.6</td>\n",
       "      <td>66.4</td>\n",
       "      <td>54.3</td>\n",
       "      <td>2824</td>\n",
       "      <td>136</td>\n",
       "      <td>3.19</td>\n",
       "      <td>3.40</td>\n",
       "      <td>8.0</td>\n",
       "      <td>115</td>\n",
       "      <td>5500</td>\n",
       "      <td>18</td>\n",
       "      <td>22</td>\n",
       "      <td>17450.0</td>\n",
       "    </tr>\n",
       "  </tbody>\n",
       "</table>\n",
       "</div>"
      ],
      "text/plain": [
       "   wheelbase  carlength  carwidth  carheight  curbweight  enginesize  \\\n",
       "0       88.6      168.8      64.1       48.8        2548         130   \n",
       "1       88.6      168.8      64.1       48.8        2548         130   \n",
       "2       94.5      171.2      65.5       52.4        2823         152   \n",
       "3       99.8      176.6      66.2       54.3        2337         109   \n",
       "4       99.4      176.6      66.4       54.3        2824         136   \n",
       "\n",
       "   boreratio  stroke  compressionratio  horsepower  peakrpm  citympg  \\\n",
       "0       3.47    2.68               9.0         111     5000       21   \n",
       "1       3.47    2.68               9.0         111     5000       21   \n",
       "2       2.68    3.47               9.0         154     5000       19   \n",
       "3       3.19    3.40              10.0         102     5500       24   \n",
       "4       3.19    3.40               8.0         115     5500       18   \n",
       "\n",
       "   highwaympg    price  \n",
       "0          27  13495.0  \n",
       "1          27  16500.0  \n",
       "2          26  16500.0  \n",
       "3          30  13950.0  \n",
       "4          22  17450.0  "
      ]
     },
     "execution_count": 49,
     "metadata": {},
     "output_type": "execute_result"
    }
   ],
   "source": [
    "dataf.head()"
   ]
  },
  {
   "cell_type": "code",
   "execution_count": 50,
   "id": "f602d6fa",
   "metadata": {},
   "outputs": [
    {
     "name": "stdout",
     "output_type": "stream",
     "text": [
      "<class 'pandas.core.frame.DataFrame'>\n",
      "RangeIndex: 205 entries, 0 to 204\n",
      "Data columns (total 14 columns):\n",
      " #   Column            Non-Null Count  Dtype  \n",
      "---  ------            --------------  -----  \n",
      " 0   wheelbase         205 non-null    float64\n",
      " 1   carlength         205 non-null    float64\n",
      " 2   carwidth          205 non-null    float64\n",
      " 3   carheight         205 non-null    float64\n",
      " 4   curbweight        205 non-null    int64  \n",
      " 5   enginesize        205 non-null    int64  \n",
      " 6   boreratio         205 non-null    float64\n",
      " 7   stroke            205 non-null    float64\n",
      " 8   compressionratio  205 non-null    float64\n",
      " 9   horsepower        205 non-null    int64  \n",
      " 10  peakrpm           205 non-null    int64  \n",
      " 11  citympg           205 non-null    int64  \n",
      " 12  highwaympg        205 non-null    int64  \n",
      " 13  price             205 non-null    float64\n",
      "dtypes: float64(8), int64(6)\n",
      "memory usage: 22.5 KB\n"
     ]
    }
   ],
   "source": [
    "dataf.info()"
   ]
  },
  {
   "cell_type": "code",
   "execution_count": 51,
   "id": "5aed7bba",
   "metadata": {},
   "outputs": [
    {
     "data": {
      "text/plain": [
       "wheelbase           float64\n",
       "carlength           float64\n",
       "carwidth            float64\n",
       "carheight           float64\n",
       "boreratio           float64\n",
       "stroke              float64\n",
       "compressionratio    float64\n",
       "price               float64\n",
       "dtype: object"
      ]
     },
     "execution_count": 51,
     "metadata": {},
     "output_type": "execute_result"
    }
   ],
   "source": [
    "dataf.dtypes[dataf.dtypes == \"float64\"]"
   ]
  },
  {
   "cell_type": "code",
   "execution_count": 52,
   "id": "73890894",
   "metadata": {},
   "outputs": [
    {
     "name": "stdout",
     "output_type": "stream",
     "text": [
      "<class 'pandas.core.frame.DataFrame'>\n",
      "RangeIndex: 205 entries, 0 to 204\n",
      "Data columns (total 14 columns):\n",
      " #   Column            Non-Null Count  Dtype  \n",
      "---  ------            --------------  -----  \n",
      " 0   wheelbase         205 non-null    float64\n",
      " 1   carlength         205 non-null    float64\n",
      " 2   carwidth          205 non-null    float64\n",
      " 3   carheight         205 non-null    float64\n",
      " 4   curbweight        205 non-null    float64\n",
      " 5   enginesize        205 non-null    float64\n",
      " 6   boreratio         205 non-null    float64\n",
      " 7   stroke            205 non-null    float64\n",
      " 8   compressionratio  205 non-null    float64\n",
      " 9   horsepower        205 non-null    float64\n",
      " 10  peakrpm           205 non-null    float64\n",
      " 11  citympg           205 non-null    float64\n",
      " 12  highwaympg        205 non-null    float64\n",
      " 13  price             205 non-null    float64\n",
      "dtypes: float64(14)\n",
      "memory usage: 22.5 KB\n"
     ]
    }
   ],
   "source": [
    "for i,j in np.ndenumerate(dataf.columns):   \n",
    "    if dataf[j].dtypes == \"int64\":\n",
    "        dataf[j] = dataf[j].astype(\"float64\")\n",
    "        \n",
    "dataf.info()"
   ]
  },
  {
   "cell_type": "code",
   "execution_count": 53,
   "id": "e90ca3a0",
   "metadata": {},
   "outputs": [],
   "source": [
    "colum = dataf.columns[:-1].tolist()"
   ]
  },
  {
   "cell_type": "code",
   "execution_count": 54,
   "id": "b0d583f2",
   "metadata": {},
   "outputs": [
    {
     "data": {
      "text/html": [
       "<div>\n",
       "<style scoped>\n",
       "    .dataframe tbody tr th:only-of-type {\n",
       "        vertical-align: middle;\n",
       "    }\n",
       "\n",
       "    .dataframe tbody tr th {\n",
       "        vertical-align: top;\n",
       "    }\n",
       "\n",
       "    .dataframe thead th {\n",
       "        text-align: right;\n",
       "    }\n",
       "</style>\n",
       "<table border=\"1\" class=\"dataframe\">\n",
       "  <thead>\n",
       "    <tr style=\"text-align: right;\">\n",
       "      <th></th>\n",
       "      <th>wheelbase</th>\n",
       "      <th>carlength</th>\n",
       "      <th>carwidth</th>\n",
       "      <th>carheight</th>\n",
       "      <th>curbweight</th>\n",
       "      <th>enginesize</th>\n",
       "      <th>boreratio</th>\n",
       "      <th>stroke</th>\n",
       "      <th>compressionratio</th>\n",
       "      <th>horsepower</th>\n",
       "      <th>peakrpm</th>\n",
       "      <th>citympg</th>\n",
       "      <th>highwaympg</th>\n",
       "      <th>price</th>\n",
       "    </tr>\n",
       "  </thead>\n",
       "  <tbody>\n",
       "    <tr>\n",
       "      <th>0</th>\n",
       "      <td>88.6</td>\n",
       "      <td>168.8</td>\n",
       "      <td>64.1</td>\n",
       "      <td>48.8</td>\n",
       "      <td>2548.0</td>\n",
       "      <td>130.0</td>\n",
       "      <td>3.47</td>\n",
       "      <td>2.68</td>\n",
       "      <td>9.0</td>\n",
       "      <td>111.0</td>\n",
       "      <td>5000.0</td>\n",
       "      <td>21.0</td>\n",
       "      <td>27.0</td>\n",
       "      <td>13495.0</td>\n",
       "    </tr>\n",
       "  </tbody>\n",
       "</table>\n",
       "</div>"
      ],
      "text/plain": [
       "   wheelbase  carlength  carwidth  carheight  curbweight  enginesize  \\\n",
       "0       88.6      168.8      64.1       48.8      2548.0       130.0   \n",
       "\n",
       "   boreratio  stroke  compressionratio  horsepower  peakrpm  citympg  \\\n",
       "0       3.47    2.68               9.0       111.0   5000.0     21.0   \n",
       "\n",
       "   highwaympg    price  \n",
       "0        27.0  13495.0  "
      ]
     },
     "execution_count": 54,
     "metadata": {},
     "output_type": "execute_result"
    }
   ],
   "source": [
    "dataf.head(1)"
   ]
  },
  {
   "cell_type": "code",
   "execution_count": 55,
   "id": "66808596",
   "metadata": {},
   "outputs": [
    {
     "data": {
      "text/plain": [
       "13"
      ]
     },
     "execution_count": 55,
     "metadata": {},
     "output_type": "execute_result"
    }
   ],
   "source": [
    "len(colum)"
   ]
  },
  {
   "cell_type": "code",
   "execution_count": 56,
   "id": "fa8ae8ed",
   "metadata": {},
   "outputs": [],
   "source": [
    "x1, x2, x3, x4, x5, x6, x7, x8, x9, x10, x11, x12, x13 = colum"
   ]
  },
  {
   "cell_type": "code",
   "execution_count": 57,
   "id": "8537f1c8",
   "metadata": {},
   "outputs": [
    {
     "name": "stderr",
     "output_type": "stream",
     "text": [
      "c:\\Users\\yashd\\anaconda3\\lib\\site-packages\\sklearn\\base.py:450: UserWarning: X does not have valid feature names, but Ridge was fitted with feature names\n",
      "  warnings.warn(\n"
     ]
    },
    {
     "data": {
      "text/plain": [
       "12385.91330494103"
      ]
     },
     "execution_count": 57,
     "metadata": {},
     "output_type": "execute_result"
    }
   ],
   "source": [
    "def Pre(x1, x2, x3, x4, x5, x6, x7, x8, x9, x10, x11, x12, x13):\n",
    "    pred = Model_rd.predict([[x1, x2, x3, x4, x5, x6, x7, x8, x9, x10, x11, x12, x13]])\n",
    "    predict = pred[0]\n",
    "    return predict\n",
    "Pre(88.6, 168.8, 64.1, 48.8, 2548.0, 130.0, 3.47, 2.68, 9.0, 111.0, 5000.0, 21.0, 27.0)"
   ]
  },
  {
   "cell_type": "code",
   "execution_count": 58,
   "id": "059a22b5",
   "metadata": {},
   "outputs": [],
   "source": [
    "# def Predict(wheelbase, carlength, carwidth, carheight, curbweight, enginesize, boreratio, stroke, compressionratio,horsepower, peakrpm, citympg, highwaympg):\n",
    "#     pred = Model_rd.predict([[wheelbase, carlength, carwidth, carheight, curbweight, enginesize, boreratio, stroke, compressionratio,horsepower, peakrpm, citympg, highwaympg]])\n",
    "#     predict = pred[0]\n",
    "#     return predict\n",
    "\n",
    "# Predict(88.6, 168.8, 64.1, 48.8, 2548.0, 130.0, 3.47, 2.68, 9.0, 111.0, 5000.0, 21.0, 27.0)"
   ]
  },
  {
   "cell_type": "code",
   "execution_count": 59,
   "id": "da368f3e",
   "metadata": {},
   "outputs": [],
   "source": [
    "import pickle\n",
    "import os\n",
    "Model_path_folder = \"model\"\n",
    "if not os.path.exists(Model_path_folder):\n",
    "    os.mkdir(Model_path_folder)\n",
    "    \n",
    "pickle.dump(Model_rd,open(f\"{Model_path_folder}/model.pkl\", \"wb\"))"
   ]
  }
 ],
 "metadata": {
  "kernelspec": {
   "display_name": "Python 3.9.12 ('base')",
   "language": "python",
   "name": "python3"
  },
  "language_info": {
   "codemirror_mode": {
    "name": "ipython",
    "version": 3
   },
   "file_extension": ".py",
   "mimetype": "text/x-python",
   "name": "python",
   "nbconvert_exporter": "python",
   "pygments_lexer": "ipython3",
   "version": "3.9.12"
  },
  "vscode": {
   "interpreter": {
    "hash": "2cd1a951032f7352ae3168ddd8bf9e6a804496d0e856e8ba8d93099e51bff633"
   }
  }
 },
 "nbformat": 4,
 "nbformat_minor": 5
}
